{
 "cells": [
  {
   "cell_type": "markdown",
   "id": "9d995e86",
   "metadata": {
    "id": "4lY12SyuIvFa",
    "papermill": {
     "duration": 0.00329,
     "end_time": "2025-10-03T18:32:43.020577",
     "exception": false,
     "start_time": "2025-10-03T18:32:43.017287",
     "status": "completed"
    },
    "tags": []
   },
   "source": [
    "# Name - Arnav Samal (NIT Rourkela)"
   ]
  },
  {
   "cell_type": "markdown",
   "id": "13ecfb96",
   "metadata": {
    "id": "9ED6wtRRIjwp",
    "papermill": {
     "duration": 0.002312,
     "end_time": "2025-10-03T18:32:43.025660",
     "exception": false,
     "start_time": "2025-10-03T18:32:43.023348",
     "status": "completed"
    },
    "tags": []
   },
   "source": [
    "Q1 — Vision Transformer on CIFAR-10 (PyTorch)\n",
    "Goal. Implement a ViT and train on CIFAR-10 (10 classes). Your objective is to achieve the highest\n",
    "possible test accuracy. You are free to try various improvements and tricks to improve performance.\n",
    "\n",
    "- Note: You must only use Colab\n",
    "- Paper: An Image is Worth 16x16 Words: Transformers for Image Recognition at Scale (Dosovitskiy\n",
    "et al., ICLR 2021).\n",
    "\n",
    "Requirements\n",
    "- Patchify images, add learnable positional embeddings, prepend a CLS token, stack\n",
    "Transformer encoder blocks (MHSA + MLP with residual + norm), classify from CLS.\n",
    "- In README.md, include: how to run in Colab, the config for your best model, and a tiny\n",
    "results table (Overall classification test accuracy).\n",
    "\n",
    "(Bonus — optional analysis)\n",
    "Any concise analysis earns bonus marks (e.g., patch size choices, depth/width trade-offs,\n",
    "augmentation effects, optimizer/schedule variants, overlapping vs. non-overlapping patches, etc.).\n",
    "Keep it short and crisp. The analysis should also be the part of the README.md"
   ]
  },
  {
   "cell_type": "markdown",
   "id": "ed4a889a",
   "metadata": {
    "id": "mougMq_jIfmw",
    "papermill": {
     "duration": 0.002433,
     "end_time": "2025-10-03T18:32:43.030467",
     "exception": false,
     "start_time": "2025-10-03T18:32:43.028034",
     "status": "completed"
    },
    "tags": []
   },
   "source": [
    "# Imports & Installations"
   ]
  },
  {
   "cell_type": "code",
   "execution_count": 1,
   "id": "1e2aac67",
   "metadata": {
    "execution": {
     "iopub.execute_input": "2025-10-03T18:32:43.036999Z",
     "iopub.status.busy": "2025-10-03T18:32:43.036626Z",
     "iopub.status.idle": "2025-10-03T18:32:52.216525Z",
     "shell.execute_reply": "2025-10-03T18:32:52.215886Z"
    },
    "id": "ZbQ6tyRQH_pm",
    "papermill": {
     "duration": 9.184888,
     "end_time": "2025-10-03T18:32:52.217908",
     "exception": false,
     "start_time": "2025-10-03T18:32:43.033020",
     "status": "completed"
    },
    "tags": []
   },
   "outputs": [],
   "source": [
    "import torch\n",
    "import torch.nn as nn\n",
    "import torch.nn.functional as F\n",
    "from torch.utils.data import DataLoader\n",
    "import torchvision\n",
    "import torchvision.transforms as transforms\n",
    "import math\n",
    "import copy\n",
    "import time\n",
    "import gc\n",
    "from tqdm import tqdm\n",
    "\n",
    "device = \"cuda\" if torch.cuda.is_available() else \"cpu\""
   ]
  },
  {
   "cell_type": "code",
   "execution_count": 2,
   "id": "93c48180",
   "metadata": {
    "execution": {
     "iopub.execute_input": "2025-10-03T18:32:52.224206Z",
     "iopub.status.busy": "2025-10-03T18:32:52.223871Z",
     "iopub.status.idle": "2025-10-03T18:32:52.227694Z",
     "shell.execute_reply": "2025-10-03T18:32:52.227173Z"
    },
    "id": "ParXgC9gJQiS",
    "papermill": {
     "duration": 0.007948,
     "end_time": "2025-10-03T18:32:52.228715",
     "exception": false,
     "start_time": "2025-10-03T18:32:52.220767",
     "status": "completed"
    },
    "tags": []
   },
   "outputs": [],
   "source": [
    "config = {\n",
    "    \"img_size\": 32,\n",
    "    \"patch_size\": 4,\n",
    "    \"in_channels\": 3,\n",
    "    \"num_classes\": 10,\n",
    "    \"embed_dim\": 256,\n",
    "    \"num_heads\": 8,\n",
    "    \"mlp_dim\": 512,\n",
    "    \"num_layers\": 6,\n",
    "    \"dropout\": 0.1,\n",
    "    \"lr\": 3e-4,\n",
    "    \"batch_size\": 512,\n",
    "    \"epochs\": 20\n",
    "}"
   ]
  },
  {
   "cell_type": "markdown",
   "id": "2c57ddf5",
   "metadata": {
    "id": "zBXunFR-JWJ5",
    "papermill": {
     "duration": 0.002236,
     "end_time": "2025-10-03T18:32:52.233605",
     "exception": false,
     "start_time": "2025-10-03T18:32:52.231369",
     "status": "completed"
    },
    "tags": []
   },
   "source": [
    "# Model Building"
   ]
  },
  {
   "cell_type": "code",
   "execution_count": 3,
   "id": "ae63eaba",
   "metadata": {
    "execution": {
     "iopub.execute_input": "2025-10-03T18:32:52.239079Z",
     "iopub.status.busy": "2025-10-03T18:32:52.238887Z",
     "iopub.status.idle": "2025-10-03T18:32:52.244377Z",
     "shell.execute_reply": "2025-10-03T18:32:52.243768Z"
    },
    "id": "Z1vZet8gJUSC",
    "papermill": {
     "duration": 0.009531,
     "end_time": "2025-10-03T18:32:52.245486",
     "exception": false,
     "start_time": "2025-10-03T18:32:52.235955",
     "status": "completed"
    },
    "tags": []
   },
   "outputs": [],
   "source": [
    "class PatchEmbedding(nn.Module):\n",
    "    def __init__(self, img_size, patch_size, in_channels, embed_dim, overlap=0):\n",
    "        super().__init__()\n",
    "        self.patch_size = patch_size\n",
    "        self.num_patches = ((img_size - overlap) // (patch_size - overlap)) ** 2\n",
    "        self.proj = nn.Conv2d(in_channels, embed_dim,\n",
    "                              kernel_size=patch_size, stride=patch_size - overlap)\n",
    "        self.cls_token = nn.Parameter(torch.zeros(1, 1, embed_dim))\n",
    "        self.pos_embed = nn.Parameter(torch.zeros(1, self.num_patches + 1, embed_dim))\n",
    "\n",
    "    def forward(self, x):\n",
    "        B = x.size(0)\n",
    "        x = self.proj(x).flatten(2).transpose(1, 2)\n",
    "        cls_tokens = self.cls_token.expand(B, -1, -1)\n",
    "        x = torch.cat((cls_tokens, x), dim=1)\n",
    "        x = x + self.pos_embed\n",
    "        return x"
   ]
  },
  {
   "cell_type": "code",
   "execution_count": null,
   "id": "60676143",
   "metadata": {
    "execution": {
     "iopub.execute_input": "2025-10-03T18:32:52.251239Z",
     "iopub.status.busy": "2025-10-03T18:32:52.250985Z",
     "iopub.status.idle": "2025-10-03T18:32:52.256021Z",
     "shell.execute_reply": "2025-10-03T18:32:52.255370Z"
    },
    "id": "Ql6fW6wGJbI6",
    "papermill": {
     "duration": 0.0093,
     "end_time": "2025-10-03T18:32:52.257241",
     "exception": false,
     "start_time": "2025-10-03T18:32:52.247941",
     "status": "completed"
    },
    "tags": []
   },
   "outputs": [],
   "source": [
    "class TransformerBlock(nn.Module):\n",
    "    def __init__(self, embed_dim, num_heads, mlp_dim, dropout):\n",
    "        super().__init__()\n",
    "        self.norm1 = nn.LayerNorm(embed_dim)\n",
    "        self.attn = nn.MultiheadAttention(embed_dim, num_heads, dropout=dropout, batch_first=True)\n",
    "        self.norm2 = nn.LayerNorm(embed_dim)\n",
    "        self.mlp = nn.Sequential(\n",
    "            nn.Linear(embed_dim, mlp_dim),\n",
    "            nn.GELU(),\n",
    "            nn.Dropout(dropout),\n",
    "            nn.Linear(mlp_dim, embed_dim),\n",
    "            nn.Dropout(dropout)\n",
    "        )\n",
    "\n",
    "    def forward(self, x):\n",
    "        x = x + self.attn(self.norm1(x), self.norm1(x), self.norm1(x))[0]\n",
    "        x = x + self.mlp(self.norm2(x))\n",
    "        return x"
   ]
  },
  {
   "cell_type": "code",
   "execution_count": 5,
   "id": "e5dd3766",
   "metadata": {
    "execution": {
     "iopub.execute_input": "2025-10-03T18:32:52.263302Z",
     "iopub.status.busy": "2025-10-03T18:32:52.263061Z",
     "iopub.status.idle": "2025-10-03T18:32:52.267783Z",
     "shell.execute_reply": "2025-10-03T18:32:52.267289Z"
    },
    "id": "GLMr6XnkJc9m",
    "papermill": {
     "duration": 0.008917,
     "end_time": "2025-10-03T18:32:52.268850",
     "exception": false,
     "start_time": "2025-10-03T18:32:52.259933",
     "status": "completed"
    },
    "tags": []
   },
   "outputs": [],
   "source": [
    "class ViT(nn.Module):\n",
    "    def __init__(self, config):\n",
    "        super().__init__()\n",
    "        self.patch_embed = PatchEmbedding(config[\"img_size\"], config[\"patch_size\"],\n",
    "                                          config[\"in_channels\"], config[\"embed_dim\"])\n",
    "        self.transformer = nn.Sequential(\n",
    "            *[TransformerBlock(config[\"embed_dim\"], config[\"num_heads\"], config[\"mlp_dim\"], config[\"dropout\"])\n",
    "              for _ in range(config[\"num_layers\"])]\n",
    "        )\n",
    "        self.norm = nn.LayerNorm(config[\"embed_dim\"])\n",
    "        self.head = nn.Linear(config[\"embed_dim\"], config[\"num_classes\"])\n",
    "\n",
    "    def forward(self, x):\n",
    "        x = self.patch_embed(x)\n",
    "        x = self.transformer(x)\n",
    "        cls_token = self.norm(x[:, 0])\n",
    "        x = self.head(cls_token)\n",
    "        return x"
   ]
  },
  {
   "cell_type": "markdown",
   "id": "5f1eea69",
   "metadata": {
    "id": "Cv8NpCJIJgV_",
    "papermill": {
     "duration": 0.002276,
     "end_time": "2025-10-03T18:32:52.273687",
     "exception": false,
     "start_time": "2025-10-03T18:32:52.271411",
     "status": "completed"
    },
    "tags": []
   },
   "source": [
    "# Data Loading"
   ]
  },
  {
   "cell_type": "code",
   "execution_count": 6,
   "id": "353ce0a5",
   "metadata": {
    "execution": {
     "iopub.execute_input": "2025-10-03T18:32:52.279300Z",
     "iopub.status.busy": "2025-10-03T18:32:52.279084Z",
     "iopub.status.idle": "2025-10-03T18:32:58.924433Z",
     "shell.execute_reply": "2025-10-03T18:32:58.923800Z"
    },
    "id": "7UYR7l7cJeTP",
    "papermill": {
     "duration": 6.649631,
     "end_time": "2025-10-03T18:32:58.925819",
     "exception": false,
     "start_time": "2025-10-03T18:32:52.276188",
     "status": "completed"
    },
    "tags": []
   },
   "outputs": [
    {
     "name": "stderr",
     "output_type": "stream",
     "text": [
      "100%|██████████| 170M/170M [00:03<00:00, 53.8MB/s]\n"
     ]
    }
   ],
   "source": [
    "transform_train = transforms.Compose([\n",
    "    transforms.RandomCrop(32, padding=4),\n",
    "    transforms.RandomHorizontalFlip(),\n",
    "    transforms.ToTensor(),\n",
    "    transforms.Normalize((0.4914, 0.4822, 0.4465), (0.247, 0.243, 0.261))\n",
    "])\n",
    "\n",
    "transform_test = transforms.Compose([\n",
    "    transforms.ToTensor(),\n",
    "    transforms.Normalize((0.4914, 0.4822, 0.4465), (0.247, 0.243, 0.261))\n",
    "])\n",
    "\n",
    "trainset = torchvision.datasets.CIFAR10(root='./data', train=True, download=True, transform=transform_train)\n",
    "trainloader = DataLoader(trainset, batch_size=config[\"batch_size\"], shuffle=True, num_workers=2, pin_memory=False)\n",
    "\n",
    "testset = torchvision.datasets.CIFAR10(root='./data', train=False, download=True, transform=transform_test)\n",
    "testloader = DataLoader(testset, batch_size=config[\"batch_size\"], shuffle=False, num_workers=2, pin_memory=False)"
   ]
  },
  {
   "cell_type": "code",
   "execution_count": null,
   "id": "f783763b",
   "metadata": {
    "execution": {
     "iopub.execute_input": "2025-10-03T18:32:58.936210Z",
     "iopub.status.busy": "2025-10-03T18:32:58.935494Z",
     "iopub.status.idle": "2025-10-03T18:45:55.847244Z",
     "shell.execute_reply": "2025-10-03T18:45:55.846619Z"
    },
    "id": "8lmDxhZoJkOS",
    "outputId": "49ba1d33-1b54-4457-948a-85d6bf48993c",
    "papermill": {
     "duration": 776.918434,
     "end_time": "2025-10-03T18:45:55.848504",
     "exception": false,
     "start_time": "2025-10-03T18:32:58.930070",
     "status": "completed"
    },
    "tags": []
   },
   "outputs": [
    {
     "name": "stderr",
     "output_type": "stream",
     "text": [
      "100%|██████████| 98/98 [00:38<00:00,  2.57it/s]\n"
     ]
    },
    {
     "name": "stdout",
     "output_type": "stream",
     "text": [
      "Epoch 1, Loss: 1.8573, Test Acc: 38.72%\n"
     ]
    },
    {
     "name": "stderr",
     "output_type": "stream",
     "text": [
      "100%|██████████| 98/98 [00:36<00:00,  2.65it/s]\n"
     ]
    },
    {
     "name": "stdout",
     "output_type": "stream",
     "text": [
      "Epoch 2, Loss: 1.5661, Test Acc: 47.03%\n"
     ]
    },
    {
     "name": "stderr",
     "output_type": "stream",
     "text": [
      "100%|██████████| 98/98 [00:36<00:00,  2.65it/s]\n"
     ]
    },
    {
     "name": "stdout",
     "output_type": "stream",
     "text": [
      "Epoch 3, Loss: 1.3925, Test Acc: 52.37%\n"
     ]
    },
    {
     "name": "stderr",
     "output_type": "stream",
     "text": [
      "100%|██████████| 98/98 [00:36<00:00,  2.65it/s]\n"
     ]
    },
    {
     "name": "stdout",
     "output_type": "stream",
     "text": [
      "Epoch 4, Loss: 1.2830, Test Acc: 55.77%\n"
     ]
    },
    {
     "name": "stderr",
     "output_type": "stream",
     "text": [
      "100%|██████████| 98/98 [00:36<00:00,  2.65it/s]\n"
     ]
    },
    {
     "name": "stdout",
     "output_type": "stream",
     "text": [
      "Epoch 5, Loss: 1.1926, Test Acc: 56.88%\n"
     ]
    },
    {
     "name": "stderr",
     "output_type": "stream",
     "text": [
      "100%|██████████| 98/98 [00:37<00:00,  2.65it/s]\n"
     ]
    },
    {
     "name": "stdout",
     "output_type": "stream",
     "text": [
      "Epoch 6, Loss: 1.1300, Test Acc: 60.31%\n"
     ]
    },
    {
     "name": "stderr",
     "output_type": "stream",
     "text": [
      "100%|██████████| 98/98 [00:36<00:00,  2.65it/s]\n"
     ]
    },
    {
     "name": "stdout",
     "output_type": "stream",
     "text": [
      "Epoch 7, Loss: 1.0837, Test Acc: 61.84%\n"
     ]
    },
    {
     "name": "stderr",
     "output_type": "stream",
     "text": [
      "100%|██████████| 98/98 [00:36<00:00,  2.65it/s]\n"
     ]
    },
    {
     "name": "stdout",
     "output_type": "stream",
     "text": [
      "Epoch 8, Loss: 1.0305, Test Acc: 64.30%\n"
     ]
    },
    {
     "name": "stderr",
     "output_type": "stream",
     "text": [
      "100%|██████████| 98/98 [00:36<00:00,  2.65it/s]\n"
     ]
    },
    {
     "name": "stdout",
     "output_type": "stream",
     "text": [
      "Epoch 9, Loss: 0.9901, Test Acc: 65.93%\n"
     ]
    },
    {
     "name": "stderr",
     "output_type": "stream",
     "text": [
      "100%|██████████| 98/98 [00:36<00:00,  2.65it/s]\n"
     ]
    },
    {
     "name": "stdout",
     "output_type": "stream",
     "text": [
      "Epoch 10, Loss: 0.9526, Test Acc: 67.27%\n"
     ]
    },
    {
     "name": "stderr",
     "output_type": "stream",
     "text": [
      "100%|██████████| 98/98 [00:37<00:00,  2.65it/s]\n"
     ]
    },
    {
     "name": "stdout",
     "output_type": "stream",
     "text": [
      "Epoch 11, Loss: 0.9225, Test Acc: 68.75%\n"
     ]
    },
    {
     "name": "stderr",
     "output_type": "stream",
     "text": [
      "100%|██████████| 98/98 [00:37<00:00,  2.65it/s]\n"
     ]
    },
    {
     "name": "stdout",
     "output_type": "stream",
     "text": [
      "Epoch 12, Loss: 0.8916, Test Acc: 68.15%\n"
     ]
    },
    {
     "name": "stderr",
     "output_type": "stream",
     "text": [
      "100%|██████████| 98/98 [00:36<00:00,  2.65it/s]\n"
     ]
    },
    {
     "name": "stdout",
     "output_type": "stream",
     "text": [
      "Epoch 13, Loss: 0.8569, Test Acc: 69.27%\n"
     ]
    },
    {
     "name": "stderr",
     "output_type": "stream",
     "text": [
      "100%|██████████| 98/98 [00:36<00:00,  2.65it/s]\n"
     ]
    },
    {
     "name": "stdout",
     "output_type": "stream",
     "text": [
      "Epoch 14, Loss: 0.8332, Test Acc: 70.17%\n"
     ]
    },
    {
     "name": "stderr",
     "output_type": "stream",
     "text": [
      "100%|██████████| 98/98 [00:37<00:00,  2.65it/s]\n"
     ]
    },
    {
     "name": "stdout",
     "output_type": "stream",
     "text": [
      "Epoch 15, Loss: 0.8021, Test Acc: 71.25%\n"
     ]
    },
    {
     "name": "stderr",
     "output_type": "stream",
     "text": [
      "100%|██████████| 98/98 [00:37<00:00,  2.65it/s]\n"
     ]
    },
    {
     "name": "stdout",
     "output_type": "stream",
     "text": [
      "Epoch 16, Loss: 0.7849, Test Acc: 72.96%\n"
     ]
    },
    {
     "name": "stderr",
     "output_type": "stream",
     "text": [
      "100%|██████████| 98/98 [00:37<00:00,  2.65it/s]\n"
     ]
    },
    {
     "name": "stdout",
     "output_type": "stream",
     "text": [
      "Epoch 17, Loss: 0.7496, Test Acc: 72.72%\n"
     ]
    },
    {
     "name": "stderr",
     "output_type": "stream",
     "text": [
      "100%|██████████| 98/98 [00:36<00:00,  2.65it/s]\n"
     ]
    },
    {
     "name": "stdout",
     "output_type": "stream",
     "text": [
      "Epoch 18, Loss: 0.7378, Test Acc: 73.74%\n"
     ]
    },
    {
     "name": "stderr",
     "output_type": "stream",
     "text": [
      "100%|██████████| 98/98 [00:37<00:00,  2.65it/s]\n"
     ]
    },
    {
     "name": "stdout",
     "output_type": "stream",
     "text": [
      "Epoch 19, Loss: 0.7106, Test Acc: 74.07%\n"
     ]
    },
    {
     "name": "stderr",
     "output_type": "stream",
     "text": [
      "100%|██████████| 98/98 [00:37<00:00,  2.64it/s]\n"
     ]
    },
    {
     "name": "stdout",
     "output_type": "stream",
     "text": [
      "Epoch 20, Loss: 0.6945, Test Acc: 73.50%\n"
     ]
    }
   ],
   "source": [
    "def train(model, trainloader, testloader, config, optimizer=None):\n",
    "    criterion = nn.CrossEntropyLoss().to(device)\n",
    "    model.to(device)\n",
    "\n",
    "    if optimizer is None:\n",
    "        optimizer = torch.optim.AdamW(model.parameters(), lr=config[\"lr\"])\n",
    "\n",
    "    for epoch in range(config[\"epochs\"]):\n",
    "        model.train()\n",
    "        running_loss = 0.0\n",
    "        for imgs, labels in tqdm(trainloader):\n",
    "            imgs, labels = imgs.to(device, non_blocking=True), labels.to(device, non_blocking=True)\n",
    "\n",
    "            optimizer.zero_grad(set_to_none=True)  \n",
    "            outputs = model(imgs)\n",
    "            loss = criterion(outputs, labels)\n",
    "            loss.backward()\n",
    "            optimizer.step()\n",
    "\n",
    "            running_loss += loss.item()\n",
    "\n",
    "            del imgs, labels, outputs, loss\n",
    "            torch.cuda.empty_cache()\n",
    "\n",
    "        model.eval()\n",
    "        correct, total = 0, 0\n",
    "        with torch.no_grad():\n",
    "            for imgs, labels in testloader:\n",
    "                imgs, labels = imgs.to(device, non_blocking=True), labels.to(device, non_blocking=True)\n",
    "                outputs = model(imgs)\n",
    "                _, predicted = outputs.max(1)\n",
    "\n",
    "                total += labels.size(0)\n",
    "                correct += predicted.eq(labels).sum().item()\n",
    "\n",
    "                del imgs, labels, outputs, predicted \n",
    "            torch.cuda.empty_cache()\n",
    "\n",
    "        acc = 100.0 * correct / total\n",
    "        print(f\"Epoch {epoch+1}, Loss: {running_loss/len(trainloader):.4f}, Test Acc: {acc:.2f}%\")\n",
    "\n",
    "    return float(acc)\n",
    "\n",
    "model = ViT(config)\n",
    "train(model, trainloader, testloader, config)\n",
    "\n",
    "model.to(\"cpu\") \n",
    "del model         \n",
    "gc.collect()      \n",
    "torch.cuda.empty_cache() "
   ]
  },
  {
   "cell_type": "markdown",
   "id": "9eda2777",
   "metadata": {
    "id": "lVf7fMx2KcRd",
    "papermill": {
     "duration": 0.085707,
     "end_time": "2025-10-03T18:45:56.019215",
     "exception": false,
     "start_time": "2025-10-03T18:45:55.933508",
     "status": "completed"
    },
    "tags": []
   },
   "source": [
    "# Extra Analysis"
   ]
  },
  {
   "cell_type": "code",
   "execution_count": null,
   "id": "8c2ea0ab",
   "metadata": {
    "execution": {
     "iopub.execute_input": "2025-10-03T18:45:56.197775Z",
     "iopub.status.busy": "2025-10-03T18:45:56.197024Z",
     "iopub.status.idle": "2025-10-03T18:45:56.201396Z",
     "shell.execute_reply": "2025-10-03T18:45:56.200817Z"
    },
    "id": "xAiObG35Ke3F",
    "papermill": {
     "duration": 0.094439,
     "end_time": "2025-10-03T18:45:56.202620",
     "exception": false,
     "start_time": "2025-10-03T18:45:56.108181",
     "status": "completed"
    },
    "tags": []
   },
   "outputs": [],
   "source": [
    "def get_optimizer(model, optimizer_type=\"AdamW\", lr=3e-4):\n",
    "    if optimizer_type == \"AdamW\":\n",
    "        return torch.optim.AdamW(model.parameters(), lr=lr)\n",
    "    else:  \n",
    "        return torch.optim.Adam(model.parameters(), lr=lr)"
   ]
  },
  {
   "cell_type": "code",
   "execution_count": null,
   "id": "4d3015dd",
   "metadata": {
    "execution": {
     "iopub.execute_input": "2025-10-03T18:45:56.380869Z",
     "iopub.status.busy": "2025-10-03T18:45:56.380154Z",
     "iopub.status.idle": "2025-10-03T18:45:56.385691Z",
     "shell.execute_reply": "2025-10-03T18:45:56.385037Z"
    },
    "id": "DQJ-w6MyJnmY",
    "papermill": {
     "duration": 0.096478,
     "end_time": "2025-10-03T18:45:56.386850",
     "exception": false,
     "start_time": "2025-10-03T18:45:56.290372",
     "status": "completed"
    },
    "tags": []
   },
   "outputs": [],
   "source": [
    "def run_experiment(config, desc=\"\", trainloader_override=None, optimizer_type=\"AdamW\", overlap=0):\n",
    "    print(f\"\\n=== Experiment: {desc} ===\")\n",
    "\n",
    "    model = ViT(config).to(device)\n",
    "    model.patch_embed = PatchEmbedding(\n",
    "        img_size=config[\"img_size\"],\n",
    "        patch_size=config[\"patch_size\"],\n",
    "        in_channels=config[\"in_channels\"],\n",
    "        embed_dim=config[\"embed_dim\"],\n",
    "        overlap=overlap\n",
    "    ).to(device)\n",
    "\n",
    "    optimizer = get_optimizer(model, optimizer_type, lr=config[\"lr\"])\n",
    "    loader = trainloader_override if trainloader_override else trainloader\n",
    "    acc = train(model, loader, testloader, config, optimizer=optimizer)\n",
    "    model.to(\"cpu\")   \n",
    "    del optimizer\n",
    "    del model         \n",
    "    gc.collect()      \n",
    "    torch.cuda.empty_cache() \n",
    "    print(torch.cuda.memory_summary())\n",
    "    return acc"
   ]
  },
  {
   "cell_type": "code",
   "execution_count": 10,
   "id": "2546ba4f",
   "metadata": {
    "execution": {
     "iopub.execute_input": "2025-10-03T18:45:56.562523Z",
     "iopub.status.busy": "2025-10-03T18:45:56.561777Z",
     "iopub.status.idle": "2025-10-03T20:08:09.611872Z",
     "shell.execute_reply": "2025-10-03T20:08:09.610713Z"
    },
    "id": "x-3S8nlvLGm5",
    "outputId": "a635ee88-11a7-4f31-9ea1-8c7b315abf95",
    "papermill": {
     "duration": 4933.139553,
     "end_time": "2025-10-03T20:08:09.613154",
     "exception": false,
     "start_time": "2025-10-03T18:45:56.473601",
     "status": "completed"
    },
    "tags": []
   },
   "outputs": [
    {
     "name": "stdout",
     "output_type": "stream",
     "text": [
      "\n",
      "=== Experiment: Baseline: patch=4, layers=6, embed=256 ===\n"
     ]
    },
    {
     "name": "stderr",
     "output_type": "stream",
     "text": [
      "100%|██████████| 98/98 [00:37<00:00,  2.64it/s]\n"
     ]
    },
    {
     "name": "stdout",
     "output_type": "stream",
     "text": [
      "Epoch 1, Loss: 1.8546, Test Acc: 38.10%\n"
     ]
    },
    {
     "name": "stderr",
     "output_type": "stream",
     "text": [
      "100%|██████████| 98/98 [00:37<00:00,  2.65it/s]\n"
     ]
    },
    {
     "name": "stdout",
     "output_type": "stream",
     "text": [
      "Epoch 2, Loss: 1.5657, Test Acc: 46.35%\n"
     ]
    },
    {
     "name": "stderr",
     "output_type": "stream",
     "text": [
      "100%|██████████| 98/98 [00:37<00:00,  2.65it/s]\n"
     ]
    },
    {
     "name": "stdout",
     "output_type": "stream",
     "text": [
      "Epoch 3, Loss: 1.3959, Test Acc: 51.81%\n"
     ]
    },
    {
     "name": "stderr",
     "output_type": "stream",
     "text": [
      "100%|██████████| 98/98 [00:37<00:00,  2.65it/s]\n"
     ]
    },
    {
     "name": "stdout",
     "output_type": "stream",
     "text": [
      "Epoch 4, Loss: 1.2898, Test Acc: 54.62%\n"
     ]
    },
    {
     "name": "stderr",
     "output_type": "stream",
     "text": [
      "100%|██████████| 98/98 [00:36<00:00,  2.65it/s]\n"
     ]
    },
    {
     "name": "stdout",
     "output_type": "stream",
     "text": [
      "Epoch 5, Loss: 1.2168, Test Acc: 56.42%\n"
     ]
    },
    {
     "name": "stderr",
     "output_type": "stream",
     "text": [
      "100%|██████████| 98/98 [00:36<00:00,  2.65it/s]\n"
     ]
    },
    {
     "name": "stdout",
     "output_type": "stream",
     "text": [
      "Epoch 6, Loss: 1.1422, Test Acc: 59.74%\n"
     ]
    },
    {
     "name": "stderr",
     "output_type": "stream",
     "text": [
      "100%|██████████| 98/98 [00:36<00:00,  2.65it/s]\n"
     ]
    },
    {
     "name": "stdout",
     "output_type": "stream",
     "text": [
      "Epoch 7, Loss: 1.0911, Test Acc: 62.30%\n"
     ]
    },
    {
     "name": "stderr",
     "output_type": "stream",
     "text": [
      "100%|██████████| 98/98 [00:36<00:00,  2.65it/s]\n"
     ]
    },
    {
     "name": "stdout",
     "output_type": "stream",
     "text": [
      "Epoch 8, Loss: 1.0390, Test Acc: 64.21%\n"
     ]
    },
    {
     "name": "stderr",
     "output_type": "stream",
     "text": [
      "100%|██████████| 98/98 [00:37<00:00,  2.65it/s]\n"
     ]
    },
    {
     "name": "stdout",
     "output_type": "stream",
     "text": [
      "Epoch 9, Loss: 1.0047, Test Acc: 64.73%\n"
     ]
    },
    {
     "name": "stderr",
     "output_type": "stream",
     "text": [
      "100%|██████████| 98/98 [00:36<00:00,  2.65it/s]\n"
     ]
    },
    {
     "name": "stdout",
     "output_type": "stream",
     "text": [
      "Epoch 10, Loss: 0.9636, Test Acc: 65.84%\n"
     ]
    },
    {
     "name": "stderr",
     "output_type": "stream",
     "text": [
      "100%|██████████| 98/98 [00:37<00:00,  2.65it/s]\n"
     ]
    },
    {
     "name": "stdout",
     "output_type": "stream",
     "text": [
      "Epoch 11, Loss: 0.9358, Test Acc: 68.34%\n"
     ]
    },
    {
     "name": "stderr",
     "output_type": "stream",
     "text": [
      "100%|██████████| 98/98 [00:36<00:00,  2.65it/s]\n"
     ]
    },
    {
     "name": "stdout",
     "output_type": "stream",
     "text": [
      "Epoch 12, Loss: 0.8984, Test Acc: 69.07%\n"
     ]
    },
    {
     "name": "stderr",
     "output_type": "stream",
     "text": [
      "100%|██████████| 98/98 [00:37<00:00,  2.65it/s]\n"
     ]
    },
    {
     "name": "stdout",
     "output_type": "stream",
     "text": [
      "Epoch 13, Loss: 0.8734, Test Acc: 68.73%\n"
     ]
    },
    {
     "name": "stderr",
     "output_type": "stream",
     "text": [
      "100%|██████████| 98/98 [00:36<00:00,  2.65it/s]\n"
     ]
    },
    {
     "name": "stdout",
     "output_type": "stream",
     "text": [
      "Epoch 14, Loss: 0.8486, Test Acc: 70.70%\n"
     ]
    },
    {
     "name": "stderr",
     "output_type": "stream",
     "text": [
      "100%|██████████| 98/98 [00:37<00:00,  2.65it/s]\n"
     ]
    },
    {
     "name": "stdout",
     "output_type": "stream",
     "text": [
      "Epoch 15, Loss: 0.8022, Test Acc: 71.39%\n"
     ]
    },
    {
     "name": "stderr",
     "output_type": "stream",
     "text": [
      "100%|██████████| 98/98 [00:36<00:00,  2.65it/s]\n"
     ]
    },
    {
     "name": "stdout",
     "output_type": "stream",
     "text": [
      "Epoch 16, Loss: 0.7977, Test Acc: 71.11%\n"
     ]
    },
    {
     "name": "stderr",
     "output_type": "stream",
     "text": [
      "100%|██████████| 98/98 [00:36<00:00,  2.65it/s]\n"
     ]
    },
    {
     "name": "stdout",
     "output_type": "stream",
     "text": [
      "Epoch 17, Loss: 0.7617, Test Acc: 72.62%\n"
     ]
    },
    {
     "name": "stderr",
     "output_type": "stream",
     "text": [
      "100%|██████████| 98/98 [00:36<00:00,  2.65it/s]\n"
     ]
    },
    {
     "name": "stdout",
     "output_type": "stream",
     "text": [
      "Epoch 18, Loss: 0.7428, Test Acc: 72.34%\n"
     ]
    },
    {
     "name": "stderr",
     "output_type": "stream",
     "text": [
      "100%|██████████| 98/98 [00:36<00:00,  2.65it/s]\n"
     ]
    },
    {
     "name": "stdout",
     "output_type": "stream",
     "text": [
      "Epoch 19, Loss: 0.7168, Test Acc: 73.64%\n"
     ]
    },
    {
     "name": "stderr",
     "output_type": "stream",
     "text": [
      "100%|██████████| 98/98 [00:36<00:00,  2.65it/s]\n"
     ]
    },
    {
     "name": "stdout",
     "output_type": "stream",
     "text": [
      "Epoch 20, Loss: 0.6977, Test Acc: 73.38%\n",
      "|===========================================================================|\n",
      "|                  PyTorch CUDA memory summary, device ID 0                 |\n",
      "|---------------------------------------------------------------------------|\n",
      "|            CUDA OOMs: 0            |        cudaMalloc retries: 0         |\n",
      "|===========================================================================|\n",
      "|        Metric         | Cur Usage  | Peak Usage | Tot Alloc  | Tot Freed  |\n",
      "|---------------------------------------------------------------------------|\n",
      "| Allocated memory      |  16640 KiB |   4027 MiB |  61341 GiB |  61341 GiB |\n",
      "|       from large pool |  16640 KiB |   3984 MiB |  61104 GiB |  61104 GiB |\n",
      "|       from small pool |      0 KiB |     60 MiB |    236 GiB |    236 GiB |\n",
      "|---------------------------------------------------------------------------|\n",
      "| Active memory         |  16640 KiB |   4027 MiB |  61341 GiB |  61341 GiB |\n",
      "|       from large pool |  16640 KiB |   3984 MiB |  61104 GiB |  61104 GiB |\n",
      "|       from small pool |      0 KiB |     60 MiB |    236 GiB |    236 GiB |\n",
      "|---------------------------------------------------------------------------|\n",
      "| Requested memory      |  16640 KiB |   4010 MiB |  61116 GiB |  61116 GiB |\n",
      "|       from large pool |  16640 KiB |   3967 MiB |  60879 GiB |  60879 GiB |\n",
      "|       from small pool |      0 KiB |     60 MiB |    236 GiB |    236 GiB |\n",
      "|---------------------------------------------------------------------------|\n",
      "| GPU reserved memory   |  88064 KiB |   4346 MiB |  16067 GiB |  16067 GiB |\n",
      "|       from large pool |  88064 KiB |   4284 MiB |  16029 GiB |  16028 GiB |\n",
      "|       from small pool |      0 KiB |     64 MiB |     38 GiB |     38 GiB |\n",
      "|---------------------------------------------------------------------------|\n",
      "| Non-releasable memory |  71424 KiB | 241741 KiB |   9334 GiB |   9334 GiB |\n",
      "|       from large pool |  71424 KiB | 238423 KiB |   9070 GiB |   9070 GiB |\n",
      "|       from small pool |      0 KiB |  12179 KiB |    264 GiB |    264 GiB |\n",
      "|---------------------------------------------------------------------------|\n",
      "| Allocations           |       2    |     408    |    2947 K  |    2947 K  |\n",
      "|       from large pool |       2    |     108    |    1574 K  |    1574 K  |\n",
      "|       from small pool |       0    |     404    |    1372 K  |    1372 K  |\n",
      "|---------------------------------------------------------------------------|\n",
      "| Active allocs         |       2    |     408    |    2947 K  |    2947 K  |\n",
      "|       from large pool |       2    |     108    |    1574 K  |    1574 K  |\n",
      "|       from small pool |       0    |     404    |    1372 K  |    1372 K  |\n",
      "|---------------------------------------------------------------------------|\n",
      "| GPU reserved segments |       2    |     129    |  388418    |  388416    |\n",
      "|       from large pool |       2    |      98    |  368724    |  368722    |\n",
      "|       from small pool |       0    |      32    |   19694    |   19694    |\n",
      "|---------------------------------------------------------------------------|\n",
      "| Non-releasable allocs |       4    |      95    |    1721 K  |    1721 K  |\n",
      "|       from large pool |       4    |      81    |    1227 K  |    1227 K  |\n",
      "|       from small pool |       0    |      26    |     493 K  |     493 K  |\n",
      "|---------------------------------------------------------------------------|\n",
      "| Oversize allocations  |       0    |       0    |       0    |       0    |\n",
      "|---------------------------------------------------------------------------|\n",
      "| Oversize GPU segments |       0    |       0    |       0    |       0    |\n",
      "|===========================================================================|\n",
      "\n",
      "\n",
      "=== Experiment: Patch size 8x8 ===\n"
     ]
    },
    {
     "name": "stderr",
     "output_type": "stream",
     "text": [
      "100%|██████████| 98/98 [00:12<00:00,  7.85it/s]\n"
     ]
    },
    {
     "name": "stdout",
     "output_type": "stream",
     "text": [
      "Epoch 1, Loss: 1.8886, Test Acc: 35.89%\n"
     ]
    },
    {
     "name": "stderr",
     "output_type": "stream",
     "text": [
      "100%|██████████| 98/98 [00:12<00:00,  7.81it/s]\n"
     ]
    },
    {
     "name": "stdout",
     "output_type": "stream",
     "text": [
      "Epoch 2, Loss: 1.6717, Test Acc: 40.50%\n"
     ]
    },
    {
     "name": "stderr",
     "output_type": "stream",
     "text": [
      "100%|██████████| 98/98 [00:12<00:00,  7.91it/s]\n"
     ]
    },
    {
     "name": "stdout",
     "output_type": "stream",
     "text": [
      "Epoch 3, Loss: 1.5561, Test Acc: 45.80%\n"
     ]
    },
    {
     "name": "stderr",
     "output_type": "stream",
     "text": [
      "100%|██████████| 98/98 [00:12<00:00,  7.77it/s]\n"
     ]
    },
    {
     "name": "stdout",
     "output_type": "stream",
     "text": [
      "Epoch 4, Loss: 1.4671, Test Acc: 47.22%\n"
     ]
    },
    {
     "name": "stderr",
     "output_type": "stream",
     "text": [
      "100%|██████████| 98/98 [00:12<00:00,  7.76it/s]\n"
     ]
    },
    {
     "name": "stdout",
     "output_type": "stream",
     "text": [
      "Epoch 5, Loss: 1.3974, Test Acc: 48.66%\n"
     ]
    },
    {
     "name": "stderr",
     "output_type": "stream",
     "text": [
      "100%|██████████| 98/98 [00:12<00:00,  7.71it/s]\n"
     ]
    },
    {
     "name": "stdout",
     "output_type": "stream",
     "text": [
      "Epoch 6, Loss: 1.3480, Test Acc: 52.40%\n"
     ]
    },
    {
     "name": "stderr",
     "output_type": "stream",
     "text": [
      "100%|██████████| 98/98 [00:12<00:00,  7.67it/s]\n"
     ]
    },
    {
     "name": "stdout",
     "output_type": "stream",
     "text": [
      "Epoch 7, Loss: 1.2938, Test Acc: 53.66%\n"
     ]
    },
    {
     "name": "stderr",
     "output_type": "stream",
     "text": [
      "100%|██████████| 98/98 [00:12<00:00,  7.83it/s]\n"
     ]
    },
    {
     "name": "stdout",
     "output_type": "stream",
     "text": [
      "Epoch 8, Loss: 1.2516, Test Acc: 56.65%\n"
     ]
    },
    {
     "name": "stderr",
     "output_type": "stream",
     "text": [
      "100%|██████████| 98/98 [00:12<00:00,  7.70it/s]\n"
     ]
    },
    {
     "name": "stdout",
     "output_type": "stream",
     "text": [
      "Epoch 9, Loss: 1.2182, Test Acc: 57.04%\n"
     ]
    },
    {
     "name": "stderr",
     "output_type": "stream",
     "text": [
      "100%|██████████| 98/98 [00:12<00:00,  7.58it/s]\n"
     ]
    },
    {
     "name": "stdout",
     "output_type": "stream",
     "text": [
      "Epoch 10, Loss: 1.1813, Test Acc: 57.57%\n"
     ]
    },
    {
     "name": "stderr",
     "output_type": "stream",
     "text": [
      "100%|██████████| 98/98 [00:12<00:00,  7.72it/s]\n"
     ]
    },
    {
     "name": "stdout",
     "output_type": "stream",
     "text": [
      "Epoch 11, Loss: 1.1575, Test Acc: 59.43%\n"
     ]
    },
    {
     "name": "stderr",
     "output_type": "stream",
     "text": [
      "100%|██████████| 98/98 [00:12<00:00,  7.63it/s]\n"
     ]
    },
    {
     "name": "stdout",
     "output_type": "stream",
     "text": [
      "Epoch 12, Loss: 1.1256, Test Acc: 61.11%\n"
     ]
    },
    {
     "name": "stderr",
     "output_type": "stream",
     "text": [
      "100%|██████████| 98/98 [00:12<00:00,  7.69it/s]\n"
     ]
    },
    {
     "name": "stdout",
     "output_type": "stream",
     "text": [
      "Epoch 13, Loss: 1.0950, Test Acc: 61.82%\n"
     ]
    },
    {
     "name": "stderr",
     "output_type": "stream",
     "text": [
      "100%|██████████| 98/98 [00:12<00:00,  7.67it/s]\n"
     ]
    },
    {
     "name": "stdout",
     "output_type": "stream",
     "text": [
      "Epoch 14, Loss: 1.0673, Test Acc: 62.55%\n"
     ]
    },
    {
     "name": "stderr",
     "output_type": "stream",
     "text": [
      "100%|██████████| 98/98 [00:12<00:00,  7.62it/s]\n"
     ]
    },
    {
     "name": "stdout",
     "output_type": "stream",
     "text": [
      "Epoch 15, Loss: 1.0461, Test Acc: 62.45%\n"
     ]
    },
    {
     "name": "stderr",
     "output_type": "stream",
     "text": [
      "100%|██████████| 98/98 [00:12<00:00,  7.71it/s]\n"
     ]
    },
    {
     "name": "stdout",
     "output_type": "stream",
     "text": [
      "Epoch 16, Loss: 1.0184, Test Acc: 64.32%\n"
     ]
    },
    {
     "name": "stderr",
     "output_type": "stream",
     "text": [
      "100%|██████████| 98/98 [00:12<00:00,  7.83it/s]\n"
     ]
    },
    {
     "name": "stdout",
     "output_type": "stream",
     "text": [
      "Epoch 17, Loss: 1.0028, Test Acc: 64.82%\n"
     ]
    },
    {
     "name": "stderr",
     "output_type": "stream",
     "text": [
      "100%|██████████| 98/98 [00:12<00:00,  7.78it/s]\n"
     ]
    },
    {
     "name": "stdout",
     "output_type": "stream",
     "text": [
      "Epoch 18, Loss: 0.9749, Test Acc: 65.54%\n"
     ]
    },
    {
     "name": "stderr",
     "output_type": "stream",
     "text": [
      "100%|██████████| 98/98 [00:12<00:00,  7.79it/s]\n"
     ]
    },
    {
     "name": "stdout",
     "output_type": "stream",
     "text": [
      "Epoch 19, Loss: 0.9590, Test Acc: 66.44%\n"
     ]
    },
    {
     "name": "stderr",
     "output_type": "stream",
     "text": [
      "100%|██████████| 98/98 [00:12<00:00,  7.66it/s]\n"
     ]
    },
    {
     "name": "stdout",
     "output_type": "stream",
     "text": [
      "Epoch 20, Loss: 0.9371, Test Acc: 65.40%\n",
      "|===========================================================================|\n",
      "|                  PyTorch CUDA memory summary, device ID 0                 |\n",
      "|---------------------------------------------------------------------------|\n",
      "|            CUDA OOMs: 0            |        cudaMalloc retries: 0         |\n",
      "|===========================================================================|\n",
      "|        Metric         | Cur Usage  | Peak Usage | Tot Alloc  | Tot Freed  |\n",
      "|---------------------------------------------------------------------------|\n",
      "| Allocated memory      |  16640 KiB |   4027 MiB |  68805 GiB |  68805 GiB |\n",
      "|       from large pool |  16640 KiB |   3984 MiB |  68451 GiB |  68451 GiB |\n",
      "|       from small pool |      0 KiB |     61 MiB |    353 GiB |    353 GiB |\n",
      "|---------------------------------------------------------------------------|\n",
      "| Active memory         |  16640 KiB |   4027 MiB |  68805 GiB |  68805 GiB |\n",
      "|       from large pool |  16640 KiB |   3984 MiB |  68451 GiB |  68451 GiB |\n",
      "|       from small pool |      0 KiB |     61 MiB |    353 GiB |    353 GiB |\n",
      "|---------------------------------------------------------------------------|\n",
      "| Requested memory      |  16640 KiB |   4010 MiB |  68386 GiB |  68386 GiB |\n",
      "|       from large pool |  16640 KiB |   3967 MiB |  68033 GiB |  68033 GiB |\n",
      "|       from small pool |      0 KiB |     61 MiB |    353 GiB |    353 GiB |\n",
      "|---------------------------------------------------------------------------|\n",
      "| GPU reserved memory   |  88064 KiB |   4346 MiB |  17883 GiB |  17883 GiB |\n",
      "|       from large pool |  88064 KiB |   4284 MiB |  17822 GiB |  17821 GiB |\n",
      "|       from small pool |      0 KiB |     64 MiB |     61 GiB |     61 GiB |\n",
      "|---------------------------------------------------------------------------|\n",
      "| Non-releasable memory |  71424 KiB | 241741 KiB |  14705 GiB |  14705 GiB |\n",
      "|       from large pool |  71424 KiB | 238423 KiB |  14305 GiB |  14305 GiB |\n",
      "|       from small pool |      0 KiB |  12948 KiB |    399 GiB |    399 GiB |\n",
      "|---------------------------------------------------------------------------|\n",
      "| Allocations           |       2    |     408    |    4423 K  |    4423 K  |\n",
      "|       from large pool |       2    |     108    |    2348 K  |    2348 K  |\n",
      "|       from small pool |       0    |     404    |    2075 K  |    2075 K  |\n",
      "|---------------------------------------------------------------------------|\n",
      "| Active allocs         |       2    |     408    |    4423 K  |    4423 K  |\n",
      "|       from large pool |       2    |     108    |    2348 K  |    2348 K  |\n",
      "|       from small pool |       0    |     404    |    2075 K  |    2075 K  |\n",
      "|---------------------------------------------------------------------------|\n",
      "| GPU reserved segments |       2    |     129    |  494064    |  494062    |\n",
      "|       from large pool |       2    |      98    |  462564    |  462562    |\n",
      "|       from small pool |       0    |      32    |   31500    |   31500    |\n",
      "|---------------------------------------------------------------------------|\n",
      "| Non-releasable allocs |       4    |      95    |    2383 K  |    2383 K  |\n",
      "|       from large pool |       4    |      81    |    1627 K  |    1627 K  |\n",
      "|       from small pool |       0    |      26    |     755 K  |     755 K  |\n",
      "|---------------------------------------------------------------------------|\n",
      "| Oversize allocations  |       0    |       0    |       0    |       0    |\n",
      "|---------------------------------------------------------------------------|\n",
      "| Oversize GPU segments |       0    |       0    |       0    |       0    |\n",
      "|===========================================================================|\n",
      "\n",
      "\n",
      "=== Experiment: Shallow: layers=4 ===\n"
     ]
    },
    {
     "name": "stderr",
     "output_type": "stream",
     "text": [
      "100%|██████████| 98/98 [00:25<00:00,  3.85it/s]\n"
     ]
    },
    {
     "name": "stdout",
     "output_type": "stream",
     "text": [
      "Epoch 1, Loss: 1.8519, Test Acc: 38.19%\n"
     ]
    },
    {
     "name": "stderr",
     "output_type": "stream",
     "text": [
      "100%|██████████| 98/98 [00:25<00:00,  3.86it/s]\n"
     ]
    },
    {
     "name": "stdout",
     "output_type": "stream",
     "text": [
      "Epoch 2, Loss: 1.5373, Test Acc: 46.77%\n"
     ]
    },
    {
     "name": "stderr",
     "output_type": "stream",
     "text": [
      "100%|██████████| 98/98 [00:25<00:00,  3.85it/s]\n"
     ]
    },
    {
     "name": "stdout",
     "output_type": "stream",
     "text": [
      "Epoch 3, Loss: 1.3825, Test Acc: 50.81%\n"
     ]
    },
    {
     "name": "stderr",
     "output_type": "stream",
     "text": [
      "100%|██████████| 98/98 [00:25<00:00,  3.85it/s]\n"
     ]
    },
    {
     "name": "stdout",
     "output_type": "stream",
     "text": [
      "Epoch 4, Loss: 1.2789, Test Acc: 57.27%\n"
     ]
    },
    {
     "name": "stderr",
     "output_type": "stream",
     "text": [
      "100%|██████████| 98/98 [00:25<00:00,  3.85it/s]\n"
     ]
    },
    {
     "name": "stdout",
     "output_type": "stream",
     "text": [
      "Epoch 5, Loss: 1.1899, Test Acc: 58.44%\n"
     ]
    },
    {
     "name": "stderr",
     "output_type": "stream",
     "text": [
      "100%|██████████| 98/98 [00:25<00:00,  3.85it/s]\n"
     ]
    },
    {
     "name": "stdout",
     "output_type": "stream",
     "text": [
      "Epoch 6, Loss: 1.1418, Test Acc: 61.50%\n"
     ]
    },
    {
     "name": "stderr",
     "output_type": "stream",
     "text": [
      "100%|██████████| 98/98 [00:25<00:00,  3.85it/s]\n"
     ]
    },
    {
     "name": "stdout",
     "output_type": "stream",
     "text": [
      "Epoch 7, Loss: 1.0972, Test Acc: 62.81%\n"
     ]
    },
    {
     "name": "stderr",
     "output_type": "stream",
     "text": [
      "100%|██████████| 98/98 [00:25<00:00,  3.84it/s]\n"
     ]
    },
    {
     "name": "stdout",
     "output_type": "stream",
     "text": [
      "Epoch 8, Loss: 1.0439, Test Acc: 64.08%\n"
     ]
    },
    {
     "name": "stderr",
     "output_type": "stream",
     "text": [
      "100%|██████████| 98/98 [00:25<00:00,  3.85it/s]\n"
     ]
    },
    {
     "name": "stdout",
     "output_type": "stream",
     "text": [
      "Epoch 9, Loss: 1.0117, Test Acc: 65.18%\n"
     ]
    },
    {
     "name": "stderr",
     "output_type": "stream",
     "text": [
      "100%|██████████| 98/98 [00:25<00:00,  3.85it/s]\n"
     ]
    },
    {
     "name": "stdout",
     "output_type": "stream",
     "text": [
      "Epoch 10, Loss: 0.9699, Test Acc: 64.93%\n"
     ]
    },
    {
     "name": "stderr",
     "output_type": "stream",
     "text": [
      "100%|██████████| 98/98 [00:25<00:00,  3.85it/s]\n"
     ]
    },
    {
     "name": "stdout",
     "output_type": "stream",
     "text": [
      "Epoch 11, Loss: 0.9485, Test Acc: 67.10%\n"
     ]
    },
    {
     "name": "stderr",
     "output_type": "stream",
     "text": [
      "100%|██████████| 98/98 [00:25<00:00,  3.85it/s]\n"
     ]
    },
    {
     "name": "stdout",
     "output_type": "stream",
     "text": [
      "Epoch 12, Loss: 0.9190, Test Acc: 67.44%\n"
     ]
    },
    {
     "name": "stderr",
     "output_type": "stream",
     "text": [
      "100%|██████████| 98/98 [00:25<00:00,  3.85it/s]\n"
     ]
    },
    {
     "name": "stdout",
     "output_type": "stream",
     "text": [
      "Epoch 13, Loss: 0.8865, Test Acc: 68.38%\n"
     ]
    },
    {
     "name": "stderr",
     "output_type": "stream",
     "text": [
      "100%|██████████| 98/98 [00:25<00:00,  3.86it/s]\n"
     ]
    },
    {
     "name": "stdout",
     "output_type": "stream",
     "text": [
      "Epoch 14, Loss: 0.8608, Test Acc: 70.18%\n"
     ]
    },
    {
     "name": "stderr",
     "output_type": "stream",
     "text": [
      "100%|██████████| 98/98 [00:25<00:00,  3.85it/s]\n"
     ]
    },
    {
     "name": "stdout",
     "output_type": "stream",
     "text": [
      "Epoch 15, Loss: 0.8369, Test Acc: 70.36%\n"
     ]
    },
    {
     "name": "stderr",
     "output_type": "stream",
     "text": [
      "100%|██████████| 98/98 [00:25<00:00,  3.85it/s]\n"
     ]
    },
    {
     "name": "stdout",
     "output_type": "stream",
     "text": [
      "Epoch 16, Loss: 0.8148, Test Acc: 71.47%\n"
     ]
    },
    {
     "name": "stderr",
     "output_type": "stream",
     "text": [
      "100%|██████████| 98/98 [00:25<00:00,  3.85it/s]\n"
     ]
    },
    {
     "name": "stdout",
     "output_type": "stream",
     "text": [
      "Epoch 17, Loss: 0.7973, Test Acc: 71.54%\n"
     ]
    },
    {
     "name": "stderr",
     "output_type": "stream",
     "text": [
      "100%|██████████| 98/98 [00:25<00:00,  3.85it/s]\n"
     ]
    },
    {
     "name": "stdout",
     "output_type": "stream",
     "text": [
      "Epoch 18, Loss: 0.7733, Test Acc: 72.27%\n"
     ]
    },
    {
     "name": "stderr",
     "output_type": "stream",
     "text": [
      "100%|██████████| 98/98 [00:25<00:00,  3.85it/s]\n"
     ]
    },
    {
     "name": "stdout",
     "output_type": "stream",
     "text": [
      "Epoch 19, Loss: 0.7542, Test Acc: 73.23%\n"
     ]
    },
    {
     "name": "stderr",
     "output_type": "stream",
     "text": [
      "100%|██████████| 98/98 [00:25<00:00,  3.85it/s]\n"
     ]
    },
    {
     "name": "stdout",
     "output_type": "stream",
     "text": [
      "Epoch 20, Loss: 0.7414, Test Acc: 73.06%\n",
      "|===========================================================================|\n",
      "|                  PyTorch CUDA memory summary, device ID 0                 |\n",
      "|---------------------------------------------------------------------------|\n",
      "|            CUDA OOMs: 0            |        cudaMalloc retries: 0         |\n",
      "|===========================================================================|\n",
      "|        Metric         | Cur Usage  | Peak Usage | Tot Alloc  | Tot Freed  |\n",
      "|---------------------------------------------------------------------------|\n",
      "| Allocated memory      |  16640 KiB |   4027 MiB |  89425 GiB |  89425 GiB |\n",
      "|       from large pool |  16640 KiB |   3984 MiB |  88990 GiB |  88990 GiB |\n",
      "|       from small pool |      0 KiB |     61 MiB |    435 GiB |    435 GiB |\n",
      "|---------------------------------------------------------------------------|\n",
      "| Active memory         |  16640 KiB |   4027 MiB |  89425 GiB |  89425 GiB |\n",
      "|       from large pool |  16640 KiB |   3984 MiB |  88990 GiB |  88990 GiB |\n",
      "|       from small pool |      0 KiB |     61 MiB |    435 GiB |    435 GiB |\n",
      "|---------------------------------------------------------------------------|\n",
      "| Requested memory      |  16640 KiB |   4010 MiB |  88937 GiB |  88937 GiB |\n",
      "|       from large pool |  16640 KiB |   3967 MiB |  88502 GiB |  88502 GiB |\n",
      "|       from small pool |      0 KiB |     61 MiB |    434 GiB |    434 GiB |\n",
      "|---------------------------------------------------------------------------|\n",
      "| GPU reserved memory   |  88064 KiB |   4346 MiB |  23426 GiB |  23426 GiB |\n",
      "|       from large pool |  88064 KiB |   4284 MiB |  23353 GiB |  23353 GiB |\n",
      "|       from small pool |      0 KiB |     64 MiB |     73 GiB |     73 GiB |\n",
      "|---------------------------------------------------------------------------|\n",
      "| Non-releasable memory |  71424 KiB | 241829 KiB |  17877 GiB |  17877 GiB |\n",
      "|       from large pool |  71424 KiB | 238423 KiB |  17381 GiB |  17381 GiB |\n",
      "|       from small pool |      0 KiB |  12948 KiB |    495 GiB |    495 GiB |\n",
      "|---------------------------------------------------------------------------|\n",
      "| Allocations           |       2    |     408    |    5436 K  |    5436 K  |\n",
      "|       from large pool |       2    |     108    |    2878 K  |    2878 K  |\n",
      "|       from small pool |       0    |     404    |    2557 K  |    2557 K  |\n",
      "|---------------------------------------------------------------------------|\n",
      "| Active allocs         |       2    |     408    |    5436 K  |    5436 K  |\n",
      "|       from large pool |       2    |     108    |    2878 K  |    2878 K  |\n",
      "|       from small pool |       0    |     404    |    2557 K  |    2557 K  |\n",
      "|---------------------------------------------------------------------------|\n",
      "| GPU reserved segments |       2    |     129    |  625543    |  625541    |\n",
      "|       from large pool |       2    |      98    |  588124    |  588122    |\n",
      "|       from small pool |       0    |      32    |   37419    |   37419    |\n",
      "|---------------------------------------------------------------------------|\n",
      "| Non-releasable allocs |       4    |      95    |    2985 K  |    2985 K  |\n",
      "|       from large pool |       4    |      81    |    2039 K  |    2039 K  |\n",
      "|       from small pool |       0    |      26    |     945 K  |     945 K  |\n",
      "|---------------------------------------------------------------------------|\n",
      "| Oversize allocations  |       0    |       0    |       0    |       0    |\n",
      "|---------------------------------------------------------------------------|\n",
      "| Oversize GPU segments |       0    |       0    |       0    |       0    |\n",
      "|===========================================================================|\n",
      "\n",
      "\n",
      "=== Experiment: Wider embedding: 512 ===\n"
     ]
    },
    {
     "name": "stderr",
     "output_type": "stream",
     "text": [
      "100%|██████████| 98/98 [00:43<00:00,  2.24it/s]\n"
     ]
    },
    {
     "name": "stdout",
     "output_type": "stream",
     "text": [
      "Epoch 1, Loss: 1.8920, Test Acc: 35.77%\n"
     ]
    },
    {
     "name": "stderr",
     "output_type": "stream",
     "text": [
      "100%|██████████| 98/98 [00:43<00:00,  2.23it/s]\n"
     ]
    },
    {
     "name": "stdout",
     "output_type": "stream",
     "text": [
      "Epoch 2, Loss: 1.5463, Test Acc: 48.34%\n"
     ]
    },
    {
     "name": "stderr",
     "output_type": "stream",
     "text": [
      "100%|██████████| 98/98 [00:43<00:00,  2.23it/s]\n"
     ]
    },
    {
     "name": "stdout",
     "output_type": "stream",
     "text": [
      "Epoch 3, Loss: 1.3864, Test Acc: 52.03%\n"
     ]
    },
    {
     "name": "stderr",
     "output_type": "stream",
     "text": [
      "100%|██████████| 98/98 [00:43<00:00,  2.23it/s]\n"
     ]
    },
    {
     "name": "stdout",
     "output_type": "stream",
     "text": [
      "Epoch 4, Loss: 1.2722, Test Acc: 56.21%\n"
     ]
    },
    {
     "name": "stderr",
     "output_type": "stream",
     "text": [
      "100%|██████████| 98/98 [00:43<00:00,  2.23it/s]\n"
     ]
    },
    {
     "name": "stdout",
     "output_type": "stream",
     "text": [
      "Epoch 5, Loss: 1.1917, Test Acc: 59.37%\n"
     ]
    },
    {
     "name": "stderr",
     "output_type": "stream",
     "text": [
      "100%|██████████| 98/98 [00:43<00:00,  2.23it/s]\n"
     ]
    },
    {
     "name": "stdout",
     "output_type": "stream",
     "text": [
      "Epoch 6, Loss: 1.1251, Test Acc: 59.81%\n"
     ]
    },
    {
     "name": "stderr",
     "output_type": "stream",
     "text": [
      "100%|██████████| 98/98 [00:43<00:00,  2.24it/s]\n"
     ]
    },
    {
     "name": "stdout",
     "output_type": "stream",
     "text": [
      "Epoch 7, Loss: 1.0765, Test Acc: 62.99%\n"
     ]
    },
    {
     "name": "stderr",
     "output_type": "stream",
     "text": [
      "100%|██████████| 98/98 [00:43<00:00,  2.24it/s]\n"
     ]
    },
    {
     "name": "stdout",
     "output_type": "stream",
     "text": [
      "Epoch 8, Loss: 1.0287, Test Acc: 64.61%\n"
     ]
    },
    {
     "name": "stderr",
     "output_type": "stream",
     "text": [
      "100%|██████████| 98/98 [00:43<00:00,  2.24it/s]\n"
     ]
    },
    {
     "name": "stdout",
     "output_type": "stream",
     "text": [
      "Epoch 9, Loss: 0.9939, Test Acc: 63.43%\n"
     ]
    },
    {
     "name": "stderr",
     "output_type": "stream",
     "text": [
      "100%|██████████| 98/98 [00:43<00:00,  2.24it/s]\n"
     ]
    },
    {
     "name": "stdout",
     "output_type": "stream",
     "text": [
      "Epoch 10, Loss: 0.9534, Test Acc: 66.24%\n"
     ]
    },
    {
     "name": "stderr",
     "output_type": "stream",
     "text": [
      "100%|██████████| 98/98 [00:43<00:00,  2.24it/s]\n"
     ]
    },
    {
     "name": "stdout",
     "output_type": "stream",
     "text": [
      "Epoch 11, Loss: 0.9221, Test Acc: 68.31%\n"
     ]
    },
    {
     "name": "stderr",
     "output_type": "stream",
     "text": [
      "100%|██████████| 98/98 [00:43<00:00,  2.24it/s]\n"
     ]
    },
    {
     "name": "stdout",
     "output_type": "stream",
     "text": [
      "Epoch 12, Loss: 0.8941, Test Acc: 67.89%\n"
     ]
    },
    {
     "name": "stderr",
     "output_type": "stream",
     "text": [
      "100%|██████████| 98/98 [00:43<00:00,  2.23it/s]\n"
     ]
    },
    {
     "name": "stdout",
     "output_type": "stream",
     "text": [
      "Epoch 13, Loss: 0.8685, Test Acc: 68.91%\n"
     ]
    },
    {
     "name": "stderr",
     "output_type": "stream",
     "text": [
      "100%|██████████| 98/98 [00:43<00:00,  2.23it/s]\n"
     ]
    },
    {
     "name": "stdout",
     "output_type": "stream",
     "text": [
      "Epoch 14, Loss: 0.8405, Test Acc: 69.38%\n"
     ]
    },
    {
     "name": "stderr",
     "output_type": "stream",
     "text": [
      "100%|██████████| 98/98 [00:43<00:00,  2.24it/s]\n"
     ]
    },
    {
     "name": "stdout",
     "output_type": "stream",
     "text": [
      "Epoch 15, Loss: 0.8278, Test Acc: 70.55%\n"
     ]
    },
    {
     "name": "stderr",
     "output_type": "stream",
     "text": [
      "100%|██████████| 98/98 [00:43<00:00,  2.24it/s]\n"
     ]
    },
    {
     "name": "stdout",
     "output_type": "stream",
     "text": [
      "Epoch 16, Loss: 0.8020, Test Acc: 71.40%\n"
     ]
    },
    {
     "name": "stderr",
     "output_type": "stream",
     "text": [
      "100%|██████████| 98/98 [00:43<00:00,  2.24it/s]\n"
     ]
    },
    {
     "name": "stdout",
     "output_type": "stream",
     "text": [
      "Epoch 17, Loss: 0.7752, Test Acc: 71.99%\n"
     ]
    },
    {
     "name": "stderr",
     "output_type": "stream",
     "text": [
      "100%|██████████| 98/98 [00:43<00:00,  2.24it/s]\n"
     ]
    },
    {
     "name": "stdout",
     "output_type": "stream",
     "text": [
      "Epoch 18, Loss: 0.7618, Test Acc: 71.56%\n"
     ]
    },
    {
     "name": "stderr",
     "output_type": "stream",
     "text": [
      "100%|██████████| 98/98 [00:43<00:00,  2.24it/s]\n"
     ]
    },
    {
     "name": "stdout",
     "output_type": "stream",
     "text": [
      "Epoch 19, Loss: 0.7372, Test Acc: 73.38%\n"
     ]
    },
    {
     "name": "stderr",
     "output_type": "stream",
     "text": [
      "100%|██████████| 98/98 [00:43<00:00,  2.23it/s]\n"
     ]
    },
    {
     "name": "stdout",
     "output_type": "stream",
     "text": [
      "Epoch 20, Loss: 0.7205, Test Acc: 73.40%\n",
      "|===========================================================================|\n",
      "|                  PyTorch CUDA memory summary, device ID 0                 |\n",
      "|---------------------------------------------------------------------------|\n",
      "|            CUDA OOMs: 0            |        cudaMalloc retries: 0         |\n",
      "|===========================================================================|\n",
      "|        Metric         | Cur Usage  | Peak Usage | Tot Alloc  | Tot Freed  |\n",
      "|---------------------------------------------------------------------------|\n",
      "| Allocated memory      |  16640 KiB |   4230 MiB | 121423 GiB | 121423 GiB |\n",
      "|       from large pool |  16640 KiB |   4188 MiB | 120868 GiB | 120868 GiB |\n",
      "|       from small pool |      0 KiB |     61 MiB |    555 GiB |    555 GiB |\n",
      "|---------------------------------------------------------------------------|\n",
      "| Active memory         |  16640 KiB |   4230 MiB | 121423 GiB | 121423 GiB |\n",
      "|       from large pool |  16640 KiB |   4188 MiB | 120868 GiB | 120868 GiB |\n",
      "|       from small pool |      0 KiB |     61 MiB |    555 GiB |    555 GiB |\n",
      "|---------------------------------------------------------------------------|\n",
      "| Requested memory      |  16640 KiB |   4179 MiB | 120558 GiB | 120558 GiB |\n",
      "|       from large pool |  16640 KiB |   4137 MiB | 120003 GiB | 120003 GiB |\n",
      "|       from small pool |      0 KiB |     61 MiB |    554 GiB |    554 GiB |\n",
      "|---------------------------------------------------------------------------|\n",
      "| GPU reserved memory   |  88064 KiB |   4486 MiB |  31414 GiB |  31414 GiB |\n",
      "|       from large pool |  88064 KiB |   4422 MiB |  31318 GiB |  31318 GiB |\n",
      "|       from small pool |      0 KiB |     64 MiB |     96 GiB |     96 GiB |\n",
      "|---------------------------------------------------------------------------|\n",
      "| Non-releasable memory |  71424 KiB | 444761 KiB |  18939 GiB |  18939 GiB |\n",
      "|       from large pool |  71424 KiB | 442007 KiB |  18323 GiB |  18323 GiB |\n",
      "|       from small pool |      0 KiB |  12948 KiB |    615 GiB |    615 GiB |\n",
      "|---------------------------------------------------------------------------|\n",
      "| Allocations           |       2    |     408    |    6448 K  |    6448 K  |\n",
      "|       from large pool |       2    |     108    |    3425 K  |    3425 K  |\n",
      "|       from small pool |       0    |     404    |    3023 K  |    3023 K  |\n",
      "|---------------------------------------------------------------------------|\n",
      "| Active allocs         |       2    |     408    |    6448 K  |    6448 K  |\n",
      "|       from large pool |       2    |     108    |    3425 K  |    3425 K  |\n",
      "|       from small pool |       0    |     404    |    3023 K  |    3023 K  |\n",
      "|---------------------------------------------------------------------------|\n",
      "| GPU reserved segments |       2    |     129    |     761 K  |     761 K  |\n",
      "|       from large pool |       2    |      98    |     711 K  |     711 K  |\n",
      "|       from small pool |       0    |      32    |      49 K  |      49 K  |\n",
      "|---------------------------------------------------------------------------|\n",
      "| Non-releasable allocs |       4    |      95    |    3255 K  |    3255 K  |\n",
      "|       from large pool |       4    |      81    |    2119 K  |    2119 K  |\n",
      "|       from small pool |       0    |      26    |    1135 K  |    1135 K  |\n",
      "|---------------------------------------------------------------------------|\n",
      "| Oversize allocations  |       0    |       0    |       0    |       0    |\n",
      "|---------------------------------------------------------------------------|\n",
      "| Oversize GPU segments |       0    |       0    |       0    |       0    |\n",
      "|===========================================================================|\n",
      "\n",
      "\n",
      "=== Experiment: No data augmentation ===\n"
     ]
    },
    {
     "name": "stderr",
     "output_type": "stream",
     "text": [
      "100%|██████████| 98/98 [00:54<00:00,  1.80it/s]\n"
     ]
    },
    {
     "name": "stdout",
     "output_type": "stream",
     "text": [
      "Epoch 1, Loss: 1.8034, Test Acc: 41.38%\n"
     ]
    },
    {
     "name": "stderr",
     "output_type": "stream",
     "text": [
      "100%|██████████| 98/98 [00:54<00:00,  1.80it/s]\n"
     ]
    },
    {
     "name": "stdout",
     "output_type": "stream",
     "text": [
      "Epoch 2, Loss: 1.4549, Test Acc: 50.88%\n"
     ]
    },
    {
     "name": "stderr",
     "output_type": "stream",
     "text": [
      "100%|██████████| 98/98 [00:54<00:00,  1.81it/s]\n"
     ]
    },
    {
     "name": "stdout",
     "output_type": "stream",
     "text": [
      "Epoch 3, Loss: 1.2560, Test Acc: 55.60%\n"
     ]
    },
    {
     "name": "stderr",
     "output_type": "stream",
     "text": [
      "100%|██████████| 98/98 [00:54<00:00,  1.81it/s]\n"
     ]
    },
    {
     "name": "stdout",
     "output_type": "stream",
     "text": [
      "Epoch 4, Loss: 1.1203, Test Acc: 58.52%\n"
     ]
    },
    {
     "name": "stderr",
     "output_type": "stream",
     "text": [
      "100%|██████████| 98/98 [00:54<00:00,  1.81it/s]\n"
     ]
    },
    {
     "name": "stdout",
     "output_type": "stream",
     "text": [
      "Epoch 5, Loss: 1.0057, Test Acc: 61.16%\n"
     ]
    },
    {
     "name": "stderr",
     "output_type": "stream",
     "text": [
      "100%|██████████| 98/98 [00:54<00:00,  1.81it/s]\n"
     ]
    },
    {
     "name": "stdout",
     "output_type": "stream",
     "text": [
      "Epoch 6, Loss: 0.9115, Test Acc: 62.48%\n"
     ]
    },
    {
     "name": "stderr",
     "output_type": "stream",
     "text": [
      "100%|██████████| 98/98 [00:54<00:00,  1.81it/s]\n"
     ]
    },
    {
     "name": "stdout",
     "output_type": "stream",
     "text": [
      "Epoch 7, Loss: 0.8288, Test Acc: 63.02%\n"
     ]
    },
    {
     "name": "stderr",
     "output_type": "stream",
     "text": [
      "100%|██████████| 98/98 [00:54<00:00,  1.81it/s]\n"
     ]
    },
    {
     "name": "stdout",
     "output_type": "stream",
     "text": [
      "Epoch 8, Loss: 0.7429, Test Acc: 63.90%\n"
     ]
    },
    {
     "name": "stderr",
     "output_type": "stream",
     "text": [
      "100%|██████████| 98/98 [00:54<00:00,  1.81it/s]\n"
     ]
    },
    {
     "name": "stdout",
     "output_type": "stream",
     "text": [
      "Epoch 9, Loss: 0.6610, Test Acc: 64.01%\n"
     ]
    },
    {
     "name": "stderr",
     "output_type": "stream",
     "text": [
      "100%|██████████| 98/98 [00:54<00:00,  1.81it/s]\n"
     ]
    },
    {
     "name": "stdout",
     "output_type": "stream",
     "text": [
      "Epoch 10, Loss: 0.5852, Test Acc: 64.48%\n"
     ]
    },
    {
     "name": "stderr",
     "output_type": "stream",
     "text": [
      "100%|██████████| 98/98 [00:53<00:00,  1.82it/s]\n"
     ]
    },
    {
     "name": "stdout",
     "output_type": "stream",
     "text": [
      "Epoch 11, Loss: 0.5231, Test Acc: 63.56%\n"
     ]
    },
    {
     "name": "stderr",
     "output_type": "stream",
     "text": [
      "100%|██████████| 98/98 [00:54<00:00,  1.81it/s]\n"
     ]
    },
    {
     "name": "stdout",
     "output_type": "stream",
     "text": [
      "Epoch 12, Loss: 0.4522, Test Acc: 63.69%\n"
     ]
    },
    {
     "name": "stderr",
     "output_type": "stream",
     "text": [
      "100%|██████████| 98/98 [00:54<00:00,  1.80it/s]\n"
     ]
    },
    {
     "name": "stdout",
     "output_type": "stream",
     "text": [
      "Epoch 13, Loss: 0.3944, Test Acc: 65.05%\n"
     ]
    },
    {
     "name": "stderr",
     "output_type": "stream",
     "text": [
      "100%|██████████| 98/98 [00:54<00:00,  1.81it/s]\n"
     ]
    },
    {
     "name": "stdout",
     "output_type": "stream",
     "text": [
      "Epoch 14, Loss: 0.3459, Test Acc: 64.53%\n"
     ]
    },
    {
     "name": "stderr",
     "output_type": "stream",
     "text": [
      "100%|██████████| 98/98 [00:54<00:00,  1.80it/s]\n"
     ]
    },
    {
     "name": "stdout",
     "output_type": "stream",
     "text": [
      "Epoch 15, Loss: 0.2842, Test Acc: 64.63%\n"
     ]
    },
    {
     "name": "stderr",
     "output_type": "stream",
     "text": [
      "100%|██████████| 98/98 [00:54<00:00,  1.81it/s]\n"
     ]
    },
    {
     "name": "stdout",
     "output_type": "stream",
     "text": [
      "Epoch 16, Loss: 0.2685, Test Acc: 63.90%\n"
     ]
    },
    {
     "name": "stderr",
     "output_type": "stream",
     "text": [
      "100%|██████████| 98/98 [00:54<00:00,  1.80it/s]\n"
     ]
    },
    {
     "name": "stdout",
     "output_type": "stream",
     "text": [
      "Epoch 17, Loss: 0.2207, Test Acc: 65.00%\n"
     ]
    },
    {
     "name": "stderr",
     "output_type": "stream",
     "text": [
      "100%|██████████| 98/98 [00:54<00:00,  1.80it/s]\n"
     ]
    },
    {
     "name": "stdout",
     "output_type": "stream",
     "text": [
      "Epoch 18, Loss: 0.2018, Test Acc: 64.51%\n"
     ]
    },
    {
     "name": "stderr",
     "output_type": "stream",
     "text": [
      "100%|██████████| 98/98 [00:54<00:00,  1.81it/s]\n"
     ]
    },
    {
     "name": "stdout",
     "output_type": "stream",
     "text": [
      "Epoch 19, Loss: 0.1782, Test Acc: 64.44%\n"
     ]
    },
    {
     "name": "stderr",
     "output_type": "stream",
     "text": [
      "100%|██████████| 98/98 [00:54<00:00,  1.80it/s]\n"
     ]
    },
    {
     "name": "stdout",
     "output_type": "stream",
     "text": [
      "Epoch 20, Loss: 0.1665, Test Acc: 63.94%\n",
      "|===========================================================================|\n",
      "|                  PyTorch CUDA memory summary, device ID 0                 |\n",
      "|---------------------------------------------------------------------------|\n",
      "|            CUDA OOMs: 0            |        cudaMalloc retries: 0         |\n",
      "|===========================================================================|\n",
      "|        Metric         | Cur Usage  | Peak Usage | Tot Alloc  | Tot Freed  |\n",
      "|---------------------------------------------------------------------------|\n",
      "| Allocated memory      |  16640 KiB |   4230 MiB | 153422 GiB | 153422 GiB |\n",
      "|       from large pool |  16640 KiB |   4188 MiB | 152747 GiB | 152747 GiB |\n",
      "|       from small pool |      0 KiB |     61 MiB |    675 GiB |    675 GiB |\n",
      "|---------------------------------------------------------------------------|\n",
      "| Active memory         |  16640 KiB |   4230 MiB | 153422 GiB | 153422 GiB |\n",
      "|       from large pool |  16640 KiB |   4188 MiB | 152747 GiB | 152747 GiB |\n",
      "|       from small pool |      0 KiB |     61 MiB |    675 GiB |    675 GiB |\n",
      "|---------------------------------------------------------------------------|\n",
      "| Requested memory      |  16640 KiB |   4179 MiB | 152180 GiB | 152180 GiB |\n",
      "|       from large pool |  16640 KiB |   4137 MiB | 151505 GiB | 151505 GiB |\n",
      "|       from small pool |      0 KiB |     61 MiB |    675 GiB |    675 GiB |\n",
      "|---------------------------------------------------------------------------|\n",
      "| GPU reserved memory   |  88064 KiB |   4486 MiB |  39402 GiB |  39402 GiB |\n",
      "|       from large pool |  88064 KiB |   4422 MiB |  39283 GiB |  39283 GiB |\n",
      "|       from small pool |      0 KiB |     64 MiB |    119 GiB |    119 GiB |\n",
      "|---------------------------------------------------------------------------|\n",
      "| Non-releasable memory |  71424 KiB | 444761 KiB |  20001 GiB |  20001 GiB |\n",
      "|       from large pool |  71424 KiB | 442007 KiB |  19266 GiB |  19266 GiB |\n",
      "|       from small pool |      0 KiB |  12948 KiB |    735 GiB |    735 GiB |\n",
      "|---------------------------------------------------------------------------|\n",
      "| Allocations           |       2    |     408    |    7460 K  |    7460 K  |\n",
      "|       from large pool |       2    |     108    |    3971 K  |    3971 K  |\n",
      "|       from small pool |       0    |     404    |    3489 K  |    3489 K  |\n",
      "|---------------------------------------------------------------------------|\n",
      "| Active allocs         |       2    |     408    |    7460 K  |    7460 K  |\n",
      "|       from large pool |       2    |     108    |    3971 K  |    3971 K  |\n",
      "|       from small pool |       0    |     404    |    3489 K  |    3489 K  |\n",
      "|---------------------------------------------------------------------------|\n",
      "| GPU reserved segments |       2    |     129    |     896 K  |     896 K  |\n",
      "|       from large pool |       2    |      98    |     835 K  |     835 K  |\n",
      "|       from small pool |       0    |      32    |      61 K  |      61 K  |\n",
      "|---------------------------------------------------------------------------|\n",
      "| Non-releasable allocs |       4    |      95    |    3526 K  |    3526 K  |\n",
      "|       from large pool |       4    |      81    |    2199 K  |    2199 K  |\n",
      "|       from small pool |       0    |      26    |    1326 K  |    1326 K  |\n",
      "|---------------------------------------------------------------------------|\n",
      "| Oversize allocations  |       0    |       0    |       0    |       0    |\n",
      "|---------------------------------------------------------------------------|\n",
      "| Oversize GPU segments |       0    |       0    |       0    |       0    |\n",
      "|===========================================================================|\n",
      "\n",
      "\n",
      "=== Experiment: Baseline, non-overlapping, AdamW ===\n"
     ]
    },
    {
     "name": "stderr",
     "output_type": "stream",
     "text": [
      "100%|██████████| 98/98 [00:13<00:00,  7.32it/s]\n"
     ]
    },
    {
     "name": "stdout",
     "output_type": "stream",
     "text": [
      "Epoch 1, Loss: 1.9215, Test Acc: 35.03%\n"
     ]
    },
    {
     "name": "stderr",
     "output_type": "stream",
     "text": [
      "100%|██████████| 98/98 [00:12<00:00,  7.58it/s]\n"
     ]
    },
    {
     "name": "stdout",
     "output_type": "stream",
     "text": [
      "Epoch 2, Loss: 1.6512, Test Acc: 42.47%\n"
     ]
    },
    {
     "name": "stderr",
     "output_type": "stream",
     "text": [
      "100%|██████████| 98/98 [00:13<00:00,  7.33it/s]\n"
     ]
    },
    {
     "name": "stdout",
     "output_type": "stream",
     "text": [
      "Epoch 3, Loss: 1.5312, Test Acc: 44.56%\n"
     ]
    },
    {
     "name": "stderr",
     "output_type": "stream",
     "text": [
      "100%|██████████| 98/98 [00:13<00:00,  7.30it/s]\n"
     ]
    },
    {
     "name": "stdout",
     "output_type": "stream",
     "text": [
      "Epoch 4, Loss: 1.4492, Test Acc: 47.54%\n"
     ]
    },
    {
     "name": "stderr",
     "output_type": "stream",
     "text": [
      "100%|██████████| 98/98 [00:13<00:00,  7.40it/s]\n"
     ]
    },
    {
     "name": "stdout",
     "output_type": "stream",
     "text": [
      "Epoch 5, Loss: 1.3852, Test Acc: 50.02%\n"
     ]
    },
    {
     "name": "stderr",
     "output_type": "stream",
     "text": [
      "100%|██████████| 98/98 [00:13<00:00,  7.41it/s]\n"
     ]
    },
    {
     "name": "stdout",
     "output_type": "stream",
     "text": [
      "Epoch 6, Loss: 1.3264, Test Acc: 52.05%\n"
     ]
    },
    {
     "name": "stderr",
     "output_type": "stream",
     "text": [
      "100%|██████████| 98/98 [00:13<00:00,  7.25it/s]\n"
     ]
    },
    {
     "name": "stdout",
     "output_type": "stream",
     "text": [
      "Epoch 7, Loss: 1.2948, Test Acc: 53.62%\n"
     ]
    },
    {
     "name": "stderr",
     "output_type": "stream",
     "text": [
      "100%|██████████| 98/98 [00:13<00:00,  7.28it/s]\n"
     ]
    },
    {
     "name": "stdout",
     "output_type": "stream",
     "text": [
      "Epoch 8, Loss: 1.2583, Test Acc: 56.44%\n"
     ]
    },
    {
     "name": "stderr",
     "output_type": "stream",
     "text": [
      "100%|██████████| 98/98 [00:13<00:00,  7.43it/s]\n"
     ]
    },
    {
     "name": "stdout",
     "output_type": "stream",
     "text": [
      "Epoch 9, Loss: 1.2200, Test Acc: 57.62%\n"
     ]
    },
    {
     "name": "stderr",
     "output_type": "stream",
     "text": [
      "100%|██████████| 98/98 [00:13<00:00,  7.50it/s]\n"
     ]
    },
    {
     "name": "stdout",
     "output_type": "stream",
     "text": [
      "Epoch 10, Loss: 1.1887, Test Acc: 57.33%\n"
     ]
    },
    {
     "name": "stderr",
     "output_type": "stream",
     "text": [
      "100%|██████████| 98/98 [00:13<00:00,  7.31it/s]\n"
     ]
    },
    {
     "name": "stdout",
     "output_type": "stream",
     "text": [
      "Epoch 11, Loss: 1.1613, Test Acc: 59.48%\n"
     ]
    },
    {
     "name": "stderr",
     "output_type": "stream",
     "text": [
      "100%|██████████| 98/98 [00:13<00:00,  7.32it/s]\n"
     ]
    },
    {
     "name": "stdout",
     "output_type": "stream",
     "text": [
      "Epoch 12, Loss: 1.1402, Test Acc: 59.81%\n"
     ]
    },
    {
     "name": "stderr",
     "output_type": "stream",
     "text": [
      "100%|██████████| 98/98 [00:13<00:00,  7.32it/s]\n"
     ]
    },
    {
     "name": "stdout",
     "output_type": "stream",
     "text": [
      "Epoch 13, Loss: 1.1074, Test Acc: 60.59%\n"
     ]
    },
    {
     "name": "stderr",
     "output_type": "stream",
     "text": [
      "100%|██████████| 98/98 [00:12<00:00,  7.54it/s]\n"
     ]
    },
    {
     "name": "stdout",
     "output_type": "stream",
     "text": [
      "Epoch 14, Loss: 1.0839, Test Acc: 60.63%\n"
     ]
    },
    {
     "name": "stderr",
     "output_type": "stream",
     "text": [
      "100%|██████████| 98/98 [00:12<00:00,  7.55it/s]\n"
     ]
    },
    {
     "name": "stdout",
     "output_type": "stream",
     "text": [
      "Epoch 15, Loss: 1.0637, Test Acc: 61.73%\n"
     ]
    },
    {
     "name": "stderr",
     "output_type": "stream",
     "text": [
      "100%|██████████| 98/98 [00:13<00:00,  7.47it/s]\n"
     ]
    },
    {
     "name": "stdout",
     "output_type": "stream",
     "text": [
      "Epoch 16, Loss: 1.0354, Test Acc: 63.08%\n"
     ]
    },
    {
     "name": "stderr",
     "output_type": "stream",
     "text": [
      "100%|██████████| 98/98 [00:13<00:00,  7.39it/s]\n"
     ]
    },
    {
     "name": "stdout",
     "output_type": "stream",
     "text": [
      "Epoch 17, Loss: 1.0188, Test Acc: 63.16%\n"
     ]
    },
    {
     "name": "stderr",
     "output_type": "stream",
     "text": [
      "100%|██████████| 98/98 [00:12<00:00,  7.62it/s]\n"
     ]
    },
    {
     "name": "stdout",
     "output_type": "stream",
     "text": [
      "Epoch 18, Loss: 1.0017, Test Acc: 64.59%\n"
     ]
    },
    {
     "name": "stderr",
     "output_type": "stream",
     "text": [
      "100%|██████████| 98/98 [00:13<00:00,  7.54it/s]\n"
     ]
    },
    {
     "name": "stdout",
     "output_type": "stream",
     "text": [
      "Epoch 19, Loss: 0.9802, Test Acc: 64.93%\n"
     ]
    },
    {
     "name": "stderr",
     "output_type": "stream",
     "text": [
      "100%|██████████| 98/98 [00:13<00:00,  7.33it/s]\n"
     ]
    },
    {
     "name": "stdout",
     "output_type": "stream",
     "text": [
      "Epoch 20, Loss: 0.9653, Test Acc: 66.10%\n",
      "|===========================================================================|\n",
      "|                  PyTorch CUDA memory summary, device ID 0                 |\n",
      "|---------------------------------------------------------------------------|\n",
      "|            CUDA OOMs: 0            |        cudaMalloc retries: 0         |\n",
      "|===========================================================================|\n",
      "|        Metric         | Cur Usage  | Peak Usage | Tot Alloc  | Tot Freed  |\n",
      "|---------------------------------------------------------------------------|\n",
      "| Allocated memory      |  16640 KiB |   4230 MiB | 162178 GiB | 162178 GiB |\n",
      "|       from large pool |  16640 KiB |   4188 MiB | 161383 GiB | 161383 GiB |\n",
      "|       from small pool |      0 KiB |     62 MiB |    794 GiB |    794 GiB |\n",
      "|---------------------------------------------------------------------------|\n",
      "| Active memory         |  16640 KiB |   4230 MiB | 162178 GiB | 162178 GiB |\n",
      "|       from large pool |  16640 KiB |   4188 MiB | 161383 GiB | 161383 GiB |\n",
      "|       from small pool |      0 KiB |     62 MiB |    794 GiB |    794 GiB |\n",
      "|---------------------------------------------------------------------------|\n",
      "| Requested memory      |  16640 KiB |   4179 MiB | 160585 GiB | 160585 GiB |\n",
      "|       from large pool |  16640 KiB |   4137 MiB | 159790 GiB | 159790 GiB |\n",
      "|       from small pool |      0 KiB |     62 MiB |    794 GiB |    794 GiB |\n",
      "|---------------------------------------------------------------------------|\n",
      "| GPU reserved memory   |  88064 KiB |   4486 MiB |  41222 GiB |  41222 GiB |\n",
      "|       from large pool |  88064 KiB |   4422 MiB |  41080 GiB |  41080 GiB |\n",
      "|       from small pool |      0 KiB |     66 MiB |    142 GiB |    142 GiB |\n",
      "|---------------------------------------------------------------------------|\n",
      "| Non-releasable memory |  71424 KiB | 444761 KiB |  21351 GiB |  21351 GiB |\n",
      "|       from large pool |  71424 KiB | 442007 KiB |  20496 GiB |  20496 GiB |\n",
      "|       from small pool |      0 KiB |  12948 KiB |    855 GiB |    855 GiB |\n",
      "|---------------------------------------------------------------------------|\n",
      "| Allocations           |       2    |     408    |    8475 K  |    8475 K  |\n",
      "|       from large pool |       2    |     108    |    4508 K  |    4508 K  |\n",
      "|       from small pool |       0    |     404    |    3966 K  |    3966 K  |\n",
      "|---------------------------------------------------------------------------|\n",
      "| Active allocs         |       2    |     408    |    8475 K  |    8475 K  |\n",
      "|       from large pool |       2    |     108    |    4508 K  |    4508 K  |\n",
      "|       from small pool |       0    |     404    |    3966 K  |    3966 K  |\n",
      "|---------------------------------------------------------------------------|\n",
      "| GPU reserved segments |       2    |     129    |    1008 K  |    1008 K  |\n",
      "|       from large pool |       2    |      98    |     935 K  |     935 K  |\n",
      "|       from small pool |       0    |      33    |      72 K  |      72 K  |\n",
      "|---------------------------------------------------------------------------|\n",
      "| Non-releasable allocs |       4    |      95    |    3811 K  |    3811 K  |\n",
      "|       from large pool |       4    |      81    |    2276 K  |    2276 K  |\n",
      "|       from small pool |       0    |      26    |    1534 K  |    1534 K  |\n",
      "|---------------------------------------------------------------------------|\n",
      "| Oversize allocations  |       0    |       0    |       0    |       0    |\n",
      "|---------------------------------------------------------------------------|\n",
      "| Oversize GPU segments |       0    |       0    |       0    |       0    |\n",
      "|===========================================================================|\n",
      "\n",
      "\n",
      "=== Experiment: Overlapping patches, AdamW ===\n"
     ]
    },
    {
     "name": "stderr",
     "output_type": "stream",
     "text": [
      "100%|██████████| 98/98 [00:32<00:00,  3.00it/s]\n"
     ]
    },
    {
     "name": "stdout",
     "output_type": "stream",
     "text": [
      "Epoch 1, Loss: 1.7958, Test Acc: 43.98%\n"
     ]
    },
    {
     "name": "stderr",
     "output_type": "stream",
     "text": [
      "100%|██████████| 98/98 [00:32<00:00,  2.98it/s]\n"
     ]
    },
    {
     "name": "stdout",
     "output_type": "stream",
     "text": [
      "Epoch 2, Loss: 1.4608, Test Acc: 51.36%\n"
     ]
    },
    {
     "name": "stderr",
     "output_type": "stream",
     "text": [
      "100%|██████████| 98/98 [00:32<00:00,  2.98it/s]\n"
     ]
    },
    {
     "name": "stdout",
     "output_type": "stream",
     "text": [
      "Epoch 3, Loss: 1.3213, Test Acc: 54.50%\n"
     ]
    },
    {
     "name": "stderr",
     "output_type": "stream",
     "text": [
      "100%|██████████| 98/98 [00:32<00:00,  2.99it/s]\n"
     ]
    },
    {
     "name": "stdout",
     "output_type": "stream",
     "text": [
      "Epoch 4, Loss: 1.2255, Test Acc: 57.22%\n"
     ]
    },
    {
     "name": "stderr",
     "output_type": "stream",
     "text": [
      "100%|██████████| 98/98 [00:32<00:00,  2.98it/s]\n"
     ]
    },
    {
     "name": "stdout",
     "output_type": "stream",
     "text": [
      "Epoch 5, Loss: 1.1593, Test Acc: 60.10%\n"
     ]
    },
    {
     "name": "stderr",
     "output_type": "stream",
     "text": [
      "100%|██████████| 98/98 [00:32<00:00,  2.97it/s]\n"
     ]
    },
    {
     "name": "stdout",
     "output_type": "stream",
     "text": [
      "Epoch 6, Loss: 1.0978, Test Acc: 62.92%\n"
     ]
    },
    {
     "name": "stderr",
     "output_type": "stream",
     "text": [
      "100%|██████████| 98/98 [00:32<00:00,  2.98it/s]\n"
     ]
    },
    {
     "name": "stdout",
     "output_type": "stream",
     "text": [
      "Epoch 7, Loss: 1.0588, Test Acc: 62.39%\n"
     ]
    },
    {
     "name": "stderr",
     "output_type": "stream",
     "text": [
      "100%|██████████| 98/98 [00:32<00:00,  2.99it/s]\n"
     ]
    },
    {
     "name": "stdout",
     "output_type": "stream",
     "text": [
      "Epoch 8, Loss: 1.0196, Test Acc: 64.46%\n"
     ]
    },
    {
     "name": "stderr",
     "output_type": "stream",
     "text": [
      "100%|██████████| 98/98 [00:32<00:00,  2.98it/s]\n"
     ]
    },
    {
     "name": "stdout",
     "output_type": "stream",
     "text": [
      "Epoch 9, Loss: 0.9901, Test Acc: 65.71%\n"
     ]
    },
    {
     "name": "stderr",
     "output_type": "stream",
     "text": [
      "100%|██████████| 98/98 [00:32<00:00,  2.99it/s]\n"
     ]
    },
    {
     "name": "stdout",
     "output_type": "stream",
     "text": [
      "Epoch 10, Loss: 0.9543, Test Acc: 66.96%\n"
     ]
    },
    {
     "name": "stderr",
     "output_type": "stream",
     "text": [
      "100%|██████████| 98/98 [00:32<00:00,  2.98it/s]\n"
     ]
    },
    {
     "name": "stdout",
     "output_type": "stream",
     "text": [
      "Epoch 11, Loss: 0.9326, Test Acc: 66.77%\n"
     ]
    },
    {
     "name": "stderr",
     "output_type": "stream",
     "text": [
      "100%|██████████| 98/98 [00:32<00:00,  2.98it/s]\n"
     ]
    },
    {
     "name": "stdout",
     "output_type": "stream",
     "text": [
      "Epoch 12, Loss: 0.9102, Test Acc: 68.29%\n"
     ]
    },
    {
     "name": "stderr",
     "output_type": "stream",
     "text": [
      "100%|██████████| 98/98 [00:32<00:00,  2.98it/s]\n"
     ]
    },
    {
     "name": "stdout",
     "output_type": "stream",
     "text": [
      "Epoch 13, Loss: 0.8804, Test Acc: 67.90%\n"
     ]
    },
    {
     "name": "stderr",
     "output_type": "stream",
     "text": [
      "100%|██████████| 98/98 [00:32<00:00,  2.98it/s]\n"
     ]
    },
    {
     "name": "stdout",
     "output_type": "stream",
     "text": [
      "Epoch 14, Loss: 0.8517, Test Acc: 69.24%\n"
     ]
    },
    {
     "name": "stderr",
     "output_type": "stream",
     "text": [
      "100%|██████████| 98/98 [00:33<00:00,  2.97it/s]\n"
     ]
    },
    {
     "name": "stdout",
     "output_type": "stream",
     "text": [
      "Epoch 15, Loss: 0.8368, Test Acc: 69.50%\n"
     ]
    },
    {
     "name": "stderr",
     "output_type": "stream",
     "text": [
      "100%|██████████| 98/98 [00:32<00:00,  2.98it/s]\n"
     ]
    },
    {
     "name": "stdout",
     "output_type": "stream",
     "text": [
      "Epoch 16, Loss: 0.8143, Test Acc: 70.94%\n"
     ]
    },
    {
     "name": "stderr",
     "output_type": "stream",
     "text": [
      "100%|██████████| 98/98 [00:32<00:00,  2.98it/s]\n"
     ]
    },
    {
     "name": "stdout",
     "output_type": "stream",
     "text": [
      "Epoch 17, Loss: 0.7889, Test Acc: 69.92%\n"
     ]
    },
    {
     "name": "stderr",
     "output_type": "stream",
     "text": [
      "100%|██████████| 98/98 [00:32<00:00,  2.98it/s]\n"
     ]
    },
    {
     "name": "stdout",
     "output_type": "stream",
     "text": [
      "Epoch 18, Loss: 0.7764, Test Acc: 71.49%\n"
     ]
    },
    {
     "name": "stderr",
     "output_type": "stream",
     "text": [
      "100%|██████████| 98/98 [00:32<00:00,  2.98it/s]\n"
     ]
    },
    {
     "name": "stdout",
     "output_type": "stream",
     "text": [
      "Epoch 19, Loss: 0.7568, Test Acc: 71.93%\n"
     ]
    },
    {
     "name": "stderr",
     "output_type": "stream",
     "text": [
      "100%|██████████| 98/98 [00:32<00:00,  2.98it/s]\n"
     ]
    },
    {
     "name": "stdout",
     "output_type": "stream",
     "text": [
      "Epoch 20, Loss: 0.7401, Test Acc: 72.54%\n",
      "|===========================================================================|\n",
      "|                  PyTorch CUDA memory summary, device ID 0                 |\n",
      "|---------------------------------------------------------------------------|\n",
      "|            CUDA OOMs: 0            |        cudaMalloc retries: 0         |\n",
      "|===========================================================================|\n",
      "|        Metric         | Cur Usage  | Peak Usage | Tot Alloc  | Tot Freed  |\n",
      "|---------------------------------------------------------------------------|\n",
      "| Allocated memory      |  16640 KiB |   4230 MiB | 186421 GiB | 186421 GiB |\n",
      "|       from large pool |  16640 KiB |   4188 MiB | 185508 GiB | 185508 GiB |\n",
      "|       from small pool |      0 KiB |     62 MiB |    913 GiB |    913 GiB |\n",
      "|---------------------------------------------------------------------------|\n",
      "| Active memory         |  16640 KiB |   4230 MiB | 186421 GiB | 186421 GiB |\n",
      "|       from large pool |  16640 KiB |   4188 MiB | 185508 GiB | 185508 GiB |\n",
      "|       from small pool |      0 KiB |     62 MiB |    913 GiB |    913 GiB |\n",
      "|---------------------------------------------------------------------------|\n",
      "| Requested memory      |  16640 KiB |   4179 MiB | 184770 GiB | 184770 GiB |\n",
      "|       from large pool |  16640 KiB |   4137 MiB | 183857 GiB | 183857 GiB |\n",
      "|       from small pool |      0 KiB |     62 MiB |    912 GiB |    912 GiB |\n",
      "|---------------------------------------------------------------------------|\n",
      "| GPU reserved memory   |  88064 KiB |   4486 MiB |  47100 GiB |  47100 GiB |\n",
      "|       from large pool |  88064 KiB |   4422 MiB |  46935 GiB |  46935 GiB |\n",
      "|       from small pool |      0 KiB |     66 MiB |    165 GiB |    165 GiB |\n",
      "|---------------------------------------------------------------------------|\n",
      "| Non-releasable memory |  71424 KiB | 444761 KiB |  22048 GiB |  22048 GiB |\n",
      "|       from large pool |  71424 KiB | 442007 KiB |  21074 GiB |  21074 GiB |\n",
      "|       from small pool |      0 KiB |  12948 KiB |    973 GiB |    973 GiB |\n",
      "|---------------------------------------------------------------------------|\n",
      "| Allocations           |       2    |     408    |    9489 K  |    9489 K  |\n",
      "|       from large pool |       2    |     108    |    5054 K  |    5054 K  |\n",
      "|       from small pool |       0    |     404    |    4434 K  |    4434 K  |\n",
      "|---------------------------------------------------------------------------|\n",
      "| Active allocs         |       2    |     408    |    9489 K  |    9489 K  |\n",
      "|       from large pool |       2    |     108    |    5054 K  |    5054 K  |\n",
      "|       from small pool |       0    |     404    |    4434 K  |    4434 K  |\n",
      "|---------------------------------------------------------------------------|\n",
      "| GPU reserved segments |       2    |     129    |    1145 K  |    1145 K  |\n",
      "|       from large pool |       2    |      98    |    1061 K  |    1061 K  |\n",
      "|       from small pool |       0    |      33    |      84 K  |      84 K  |\n",
      "|---------------------------------------------------------------------------|\n",
      "| Non-releasable allocs |       4    |      95    |    4055 K  |    4055 K  |\n",
      "|       from large pool |       4    |      81    |    2309 K  |    2309 K  |\n",
      "|       from small pool |       0    |      26    |    1745 K  |    1745 K  |\n",
      "|---------------------------------------------------------------------------|\n",
      "| Oversize allocations  |       0    |       0    |       0    |       0    |\n",
      "|---------------------------------------------------------------------------|\n",
      "| Oversize GPU segments |       0    |       0    |       0    |       0    |\n",
      "|===========================================================================|\n",
      "\n",
      "\n",
      "=== Experiment: Non-overlapping, Adam ===\n"
     ]
    },
    {
     "name": "stderr",
     "output_type": "stream",
     "text": [
      "100%|██████████| 98/98 [00:13<00:00,  7.49it/s]\n"
     ]
    },
    {
     "name": "stdout",
     "output_type": "stream",
     "text": [
      "Epoch 1, Loss: 1.8855, Test Acc: 36.71%\n"
     ]
    },
    {
     "name": "stderr",
     "output_type": "stream",
     "text": [
      "100%|██████████| 98/98 [00:13<00:00,  7.53it/s]\n"
     ]
    },
    {
     "name": "stdout",
     "output_type": "stream",
     "text": [
      "Epoch 2, Loss: 1.6479, Test Acc: 42.15%\n"
     ]
    },
    {
     "name": "stderr",
     "output_type": "stream",
     "text": [
      "100%|██████████| 98/98 [00:13<00:00,  7.36it/s]\n"
     ]
    },
    {
     "name": "stdout",
     "output_type": "stream",
     "text": [
      "Epoch 3, Loss: 1.5201, Test Acc: 47.13%\n"
     ]
    },
    {
     "name": "stderr",
     "output_type": "stream",
     "text": [
      "100%|██████████| 98/98 [00:12<00:00,  7.64it/s]\n"
     ]
    },
    {
     "name": "stdout",
     "output_type": "stream",
     "text": [
      "Epoch 4, Loss: 1.4362, Test Acc: 48.82%\n"
     ]
    },
    {
     "name": "stderr",
     "output_type": "stream",
     "text": [
      "100%|██████████| 98/98 [00:13<00:00,  7.48it/s]\n"
     ]
    },
    {
     "name": "stdout",
     "output_type": "stream",
     "text": [
      "Epoch 5, Loss: 1.3719, Test Acc: 50.79%\n"
     ]
    },
    {
     "name": "stderr",
     "output_type": "stream",
     "text": [
      "100%|██████████| 98/98 [00:13<00:00,  7.46it/s]\n"
     ]
    },
    {
     "name": "stdout",
     "output_type": "stream",
     "text": [
      "Epoch 6, Loss: 1.3332, Test Acc: 52.26%\n"
     ]
    },
    {
     "name": "stderr",
     "output_type": "stream",
     "text": [
      "100%|██████████| 98/98 [00:13<00:00,  7.52it/s]\n"
     ]
    },
    {
     "name": "stdout",
     "output_type": "stream",
     "text": [
      "Epoch 7, Loss: 1.2797, Test Acc: 54.59%\n"
     ]
    },
    {
     "name": "stderr",
     "output_type": "stream",
     "text": [
      "100%|██████████| 98/98 [00:13<00:00,  7.43it/s]\n"
     ]
    },
    {
     "name": "stdout",
     "output_type": "stream",
     "text": [
      "Epoch 8, Loss: 1.2414, Test Acc: 56.04%\n"
     ]
    },
    {
     "name": "stderr",
     "output_type": "stream",
     "text": [
      "100%|██████████| 98/98 [00:12<00:00,  7.56it/s]\n"
     ]
    },
    {
     "name": "stdout",
     "output_type": "stream",
     "text": [
      "Epoch 9, Loss: 1.2128, Test Acc: 57.33%\n"
     ]
    },
    {
     "name": "stderr",
     "output_type": "stream",
     "text": [
      "100%|██████████| 98/98 [00:13<00:00,  7.46it/s]\n"
     ]
    },
    {
     "name": "stdout",
     "output_type": "stream",
     "text": [
      "Epoch 10, Loss: 1.1861, Test Acc: 58.67%\n"
     ]
    },
    {
     "name": "stderr",
     "output_type": "stream",
     "text": [
      "100%|██████████| 98/98 [00:13<00:00,  7.51it/s]\n"
     ]
    },
    {
     "name": "stdout",
     "output_type": "stream",
     "text": [
      "Epoch 11, Loss: 1.1486, Test Acc: 59.36%\n"
     ]
    },
    {
     "name": "stderr",
     "output_type": "stream",
     "text": [
      "100%|██████████| 98/98 [00:13<00:00,  7.48it/s]\n"
     ]
    },
    {
     "name": "stdout",
     "output_type": "stream",
     "text": [
      "Epoch 12, Loss: 1.1295, Test Acc: 61.04%\n"
     ]
    },
    {
     "name": "stderr",
     "output_type": "stream",
     "text": [
      "100%|██████████| 98/98 [00:12<00:00,  7.64it/s]\n"
     ]
    },
    {
     "name": "stdout",
     "output_type": "stream",
     "text": [
      "Epoch 13, Loss: 1.0925, Test Acc: 61.48%\n"
     ]
    },
    {
     "name": "stderr",
     "output_type": "stream",
     "text": [
      "100%|██████████| 98/98 [00:13<00:00,  7.45it/s]\n"
     ]
    },
    {
     "name": "stdout",
     "output_type": "stream",
     "text": [
      "Epoch 14, Loss: 1.0661, Test Acc: 62.66%\n"
     ]
    },
    {
     "name": "stderr",
     "output_type": "stream",
     "text": [
      "100%|██████████| 98/98 [00:13<00:00,  7.43it/s]\n"
     ]
    },
    {
     "name": "stdout",
     "output_type": "stream",
     "text": [
      "Epoch 15, Loss: 1.0501, Test Acc: 63.20%\n"
     ]
    },
    {
     "name": "stderr",
     "output_type": "stream",
     "text": [
      "100%|██████████| 98/98 [00:13<00:00,  7.32it/s]\n"
     ]
    },
    {
     "name": "stdout",
     "output_type": "stream",
     "text": [
      "Epoch 16, Loss: 1.0292, Test Acc: 63.79%\n"
     ]
    },
    {
     "name": "stderr",
     "output_type": "stream",
     "text": [
      "100%|██████████| 98/98 [00:13<00:00,  7.53it/s]\n"
     ]
    },
    {
     "name": "stdout",
     "output_type": "stream",
     "text": [
      "Epoch 17, Loss: 1.0052, Test Acc: 64.63%\n"
     ]
    },
    {
     "name": "stderr",
     "output_type": "stream",
     "text": [
      "100%|██████████| 98/98 [00:12<00:00,  7.57it/s]\n"
     ]
    },
    {
     "name": "stdout",
     "output_type": "stream",
     "text": [
      "Epoch 18, Loss: 0.9832, Test Acc: 65.14%\n"
     ]
    },
    {
     "name": "stderr",
     "output_type": "stream",
     "text": [
      "100%|██████████| 98/98 [00:13<00:00,  7.41it/s]\n"
     ]
    },
    {
     "name": "stdout",
     "output_type": "stream",
     "text": [
      "Epoch 19, Loss: 0.9721, Test Acc: 65.26%\n"
     ]
    },
    {
     "name": "stderr",
     "output_type": "stream",
     "text": [
      "100%|██████████| 98/98 [00:12<00:00,  7.58it/s]\n"
     ]
    },
    {
     "name": "stdout",
     "output_type": "stream",
     "text": [
      "Epoch 20, Loss: 0.9497, Test Acc: 65.61%\n",
      "|===========================================================================|\n",
      "|                  PyTorch CUDA memory summary, device ID 0                 |\n",
      "|---------------------------------------------------------------------------|\n",
      "|            CUDA OOMs: 0            |        cudaMalloc retries: 0         |\n",
      "|===========================================================================|\n",
      "|        Metric         | Cur Usage  | Peak Usage | Tot Alloc  | Tot Freed  |\n",
      "|---------------------------------------------------------------------------|\n",
      "| Allocated memory      |  16640 KiB |   4230 MiB | 195177 GiB | 195177 GiB |\n",
      "|       from large pool |  16640 KiB |   4188 MiB | 194144 GiB | 194144 GiB |\n",
      "|       from small pool |      0 KiB |     62 MiB |   1032 GiB |   1032 GiB |\n",
      "|---------------------------------------------------------------------------|\n",
      "| Active memory         |  16640 KiB |   4230 MiB | 195177 GiB | 195177 GiB |\n",
      "|       from large pool |  16640 KiB |   4188 MiB | 194144 GiB | 194144 GiB |\n",
      "|       from small pool |      0 KiB |     62 MiB |   1032 GiB |   1032 GiB |\n",
      "|---------------------------------------------------------------------------|\n",
      "| Requested memory      |  16640 KiB |   4179 MiB | 193175 GiB | 193175 GiB |\n",
      "|       from large pool |  16640 KiB |   4137 MiB | 192143 GiB | 192143 GiB |\n",
      "|       from small pool |      0 KiB |     62 MiB |   1032 GiB |   1032 GiB |\n",
      "|---------------------------------------------------------------------------|\n",
      "| GPU reserved memory   |  88064 KiB |   4486 MiB |  48921 GiB |  48920 GiB |\n",
      "|       from large pool |  88064 KiB |   4422 MiB |  48732 GiB |  48732 GiB |\n",
      "|       from small pool |      0 KiB |     66 MiB |    188 GiB |    188 GiB |\n",
      "|---------------------------------------------------------------------------|\n",
      "| Non-releasable memory |  71424 KiB | 444761 KiB |  23398 GiB |  23398 GiB |\n",
      "|       from large pool |  71424 KiB | 442007 KiB |  22305 GiB |  22305 GiB |\n",
      "|       from small pool |      0 KiB |  12948 KiB |   1093 GiB |   1093 GiB |\n",
      "|---------------------------------------------------------------------------|\n",
      "| Allocations           |       2    |     408    |   10503 K  |   10503 K  |\n",
      "|       from large pool |       2    |     108    |    5591 K  |    5591 K  |\n",
      "|       from small pool |       0    |     404    |    4911 K  |    4911 K  |\n",
      "|---------------------------------------------------------------------------|\n",
      "| Active allocs         |       2    |     408    |   10503 K  |   10503 K  |\n",
      "|       from large pool |       2    |     108    |    5591 K  |    5591 K  |\n",
      "|       from small pool |       0    |     404    |    4911 K  |    4911 K  |\n",
      "|---------------------------------------------------------------------------|\n",
      "| GPU reserved segments |       2    |     129    |    1257 K  |    1257 K  |\n",
      "|       from large pool |       2    |      98    |    1161 K  |    1161 K  |\n",
      "|       from small pool |       0    |      33    |      96 K  |      96 K  |\n",
      "|---------------------------------------------------------------------------|\n",
      "| Non-releasable allocs |       4    |      95    |    4340 K  |    4340 K  |\n",
      "|       from large pool |       4    |      81    |    2386 K  |    2386 K  |\n",
      "|       from small pool |       0    |      26    |    1954 K  |    1954 K  |\n",
      "|---------------------------------------------------------------------------|\n",
      "| Oversize allocations  |       0    |       0    |       0    |       0    |\n",
      "|---------------------------------------------------------------------------|\n",
      "| Oversize GPU segments |       0    |       0    |       0    |       0    |\n",
      "|===========================================================================|\n",
      "\n"
     ]
    }
   ],
   "source": [
    "config[\"patch_size\"] = 4\n",
    "config[\"num_layers\"] = 6\n",
    "config[\"embed_dim\"] = 256\n",
    "baseline_acc = run_experiment(config, \"Baseline: patch=4, layers=6, embed=256\")\n",
    "\n",
    "config[\"patch_size\"] = 8\n",
    "patch8_acc = run_experiment(config, \"Patch size 8x8\")\n",
    "\n",
    "config[\"num_layers\"] = 4\n",
    "config[\"patch_size\"] = 4\n",
    "shallow_acc = run_experiment(config, \"Shallow: layers=4\")\n",
    "\n",
    "config[\"embed_dim\"] = 512\n",
    "wide_acc = run_experiment(config, \"Wider embedding: 512\")\n",
    "\n",
    "trainset_no_aug = torchvision.datasets.CIFAR10(root='./data', train=True, download=True,\n",
    "                                               transform=transform_test)\n",
    "trainloader_no_aug = DataLoader(trainset_no_aug, batch_size=config[\"batch_size\"], shuffle=True)\n",
    "no_aug_acc = run_experiment(config, \"No data augmentation\", trainloader_override=trainloader_no_aug)\n",
    "\n",
    "experiments = [\n",
    "    {\"patch_size\":8, \"overlap\":0, \"optimizer\":\"AdamW\", \"desc\":\"Baseline, non-overlapping, AdamW\"},\n",
    "    {\"patch_size\":8, \"overlap\":4, \"optimizer\":\"AdamW\", \"desc\":\"Overlapping patches, AdamW\"},\n",
    "    {\"patch_size\":8, \"overlap\":0, \"optimizer\":\"Adam\", \"desc\":\"Non-overlapping, Adam\"},\n",
    "]\n",
    "\n",
    "results = {}\n",
    "for exp in experiments:\n",
    "    config[\"patch_size\"] = exp[\"patch_size\"]\n",
    "    acc = run_experiment(config, exp[\"desc\"], optimizer_type=exp[\"optimizer\"], overlap=exp[\"overlap\"])\n",
    "    results[exp[\"desc\"]] = acc"
   ]
  },
  {
   "cell_type": "code",
   "execution_count": 11,
   "id": "bf5fdd1a",
   "metadata": {
    "execution": {
     "iopub.execute_input": "2025-10-03T20:08:11.161456Z",
     "iopub.status.busy": "2025-10-03T20:08:11.161101Z",
     "iopub.status.idle": "2025-10-03T20:08:11.166437Z",
     "shell.execute_reply": "2025-10-03T20:08:11.165667Z"
    },
    "id": "bwh_pak0LMDC",
    "papermill": {
     "duration": 0.748459,
     "end_time": "2025-10-03T20:08:11.167574",
     "exception": false,
     "start_time": "2025-10-03T20:08:10.419115",
     "status": "completed"
    },
    "tags": []
   },
   "outputs": [
    {
     "name": "stdout",
     "output_type": "stream",
     "text": [
      "\n",
      "----- Summary of All Experiments -----\n",
      "Baseline (4x4, 6 layers, 256 embed): 73.38%\n",
      "Patch size 8x8: 65.40%\n",
      "Shallow (layers=4): 73.06%\n",
      "Wider embedding (512): 73.40%\n",
      "No data augmentation: 63.94%\n",
      "Baseline, non-overlapping, AdamW: 66.10%\n",
      "Overlapping patches, AdamW: 72.54%\n",
      "Non-overlapping, Adam: 65.61%\n"
     ]
    }
   ],
   "source": [
    "print(\"\\n----- Summary of All Experiments -----\")\n",
    "summary = {\n",
    "    \"Baseline (4x4, 6 layers, 256 embed)\": baseline_acc,\n",
    "    \"Patch size 8x8\": patch8_acc,\n",
    "    \"Shallow (layers=4)\": shallow_acc,\n",
    "    \"Wider embedding (512)\": wide_acc,\n",
    "    \"No data augmentation\": no_aug_acc,\n",
    "}\n",
    "summary.update(results)\n",
    "\n",
    "for k, v in summary.items():\n",
    "    print(f\"{k}: {v:.2f}%\")"
   ]
  },
  {
   "cell_type": "code",
   "execution_count": null,
   "id": "aa3bb3d0",
   "metadata": {
    "id": "lpkpTJkMNkHu",
    "papermill": {
     "duration": 0.743336,
     "end_time": "2025-10-03T20:08:12.709213",
     "exception": false,
     "start_time": "2025-10-03T20:08:11.965877",
     "status": "completed"
    },
    "tags": []
   },
   "outputs": [],
   "source": []
  }
 ],
 "metadata": {
  "accelerator": "GPU",
  "colab": {
   "gpuType": "T4",
   "provenance": [],
   "toc_visible": true
  },
  "kaggle": {
   "accelerator": "gpu",
   "dataSources": [],
   "dockerImageVersionId": 31090,
   "isGpuEnabled": true,
   "isInternetEnabled": true,
   "language": "python",
   "sourceType": "notebook"
  },
  "kernelspec": {
   "display_name": "Python 3",
   "name": "python3"
  },
  "language_info": {
   "codemirror_mode": {
    "name": "ipython",
    "version": 3
   },
   "file_extension": ".py",
   "mimetype": "text/x-python",
   "name": "python",
   "nbconvert_exporter": "python",
   "pygments_lexer": "ipython3",
   "version": "3.11.13"
  },
  "papermill": {
   "default_parameters": {},
   "duration": 5736.231041,
   "end_time": "2025-10-03T20:08:15.040899",
   "environment_variables": {},
   "exception": null,
   "input_path": "__notebook__.ipynb",
   "output_path": "__notebook__.ipynb",
   "parameters": {},
   "start_time": "2025-10-03T18:32:38.809858",
   "version": "2.6.0"
  }
 },
 "nbformat": 4,
 "nbformat_minor": 5
}
